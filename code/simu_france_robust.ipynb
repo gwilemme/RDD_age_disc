{
 "cells": [
  {
   "cell_type": "code",
   "execution_count": 1,
   "metadata": {},
   "outputs": [],
   "source": [
    "## call the main routines\n",
    "using NBInclude\n",
    "@nbinclude(\"core_fun.ipynb\");"
   ]
  },
  {
   "cell_type": "markdown",
   "metadata": {},
   "source": [
    "We fix the parameters for the case of France in an object of type Country. The calibrated values for $\\alpha$, $m$ and $q$ (and $\\lambda$) are obtained latter on."
   ]
  },
  {
   "cell_type": "code",
   "execution_count": 2,
   "metadata": {},
   "outputs": [],
   "source": [
    "lambda_function(q) = 1/quadgk(x-> UIpolicy_france(x) * q * exp(-q*x), 0, Inf)[1] \n",
    "\n",
    "france = let \n",
    "    \n",
    "    reform = 1\n",
    "    A = 25.  *12 # entitlement age to RMI\n",
    "    Amin = 20. *12\n",
    "    Amax = 36. *12\n",
    "    \n",
    "    r = 0.0048 # 5 % annual interest rate, time unit = month\n",
    "    c0 = 1. # scale parameter of the cost function, normalized to 1 \n",
    "    \n",
    "    ### to be updated after the calibration\n",
    "    alpha, m, q =  0.3, 0.3, 0.07\n",
    "    lambdamin = lambda_function(q)\n",
    "    lambdamax = lambda_function(q)\n",
    "  \n",
    "    uinit = [0.36,0.] ## start with 64% employment rate, 36% without UI\n",
    "    \n",
    "    b0max = 539 # RMI+housing benefits, from BD2011\n",
    "    b0min = 206 # housing benefits without RMI, from BD2011\n",
    "    wbar = 1.66 * b0max # average wage, 66% increase in relative gains from working for HS dropouts, from BD2011    \n",
    "    b0max /= wbar\n",
    "    b0min /= wbar\n",
    "    wbar = 1\n",
    "    bUI = 0.68   # 68% replacement rate from DARES\n",
    "    \n",
    "    Country(reform,A,Amin,Amax,r,c0,alpha,q,m,lambdamin,lambdamax,uinit,bUI,b0max,b0min,wbar)\n",
    "end\n",
    ";"
   ]
  },
  {
   "cell_type": "markdown",
   "metadata": {},
   "source": [
    "# 1) Find $\\alpha$ and $m$ for different values of $q$\n",
    "We take as moments the employment rates from 24 to 26."
   ]
  },
  {
   "cell_type": "code",
   "execution_count": 3,
   "metadata": {},
   "outputs": [
    {
     "data": {
      "image/png": "[encoded data removed]",
      "text/plain": [
       "Figure(PyObject <Figure size 640x480 with 1 Axes>)"
      ]
     },
     "metadata": {},
     "output_type": "display_data"
    },
    {
     "data": {
      "text/plain": [
       "distance (generic function with 1 method)"
      ]
     },
     "execution_count": 3,
     "metadata": {},
     "output_type": "execute_result"
    }
   ],
   "source": [
    "function moments_france(unemp,simu::Simu,C::Country)\n",
    "  #  Y22 = quadgk(x->1-sum(unemp(x)[:]) ,22*12,22*12+12)[1]/12\n",
    "  #  Y23 = quadgk(x->1-sum(unemp(x)[:]) ,23*12,23*12+12)[1]/12\n",
    "    Y24 = quadgk(x->1-sum(unemp(x)[:]) ,24*12,24*12+12)[1]/12\n",
    "    Y25 = quadgk(x->1-sum(unemp(x)[:]) ,25*12,25*12+12)[1]/12\n",
    "    Y26 = quadgk(x->1-sum(unemp(x)[:]) ,26*12,26*12+12)[1]/12\n",
    "  #  Y27 = quadgk(x->1-sum(unemp(x)[:]) ,27*12,27*12+12)[1]/12\n",
    "    return(    [ Y24, Y25, Y26])\n",
    "end\n",
    "\n",
    "moments_target = let\n",
    "    Y22, Y23, Y24, Y25, Y26, Y27 = 0.659, 0.685, 0.721, 0.667, 0.658, 0.676\n",
    "    scatter(22:27, [Y22, Y23, Y24, Y25, Y26, Y27])\n",
    "    [Y24, Y25, Y26]\n",
    "end\n",
    "\n",
    "function distance(m1,m2)\n",
    "    out = 0\n",
    "    for i in 1:length(m1)\n",
    "        out += (m1[i] - m2[i]) ^2  \n",
    "    end\n",
    "    return(out)\n",
    "end"
   ]
  },
  {
   "cell_type": "code",
   "execution_count": 4,
   "metadata": {},
   "outputs": [
    {
     "name": "stdout",
     "output_type": "stream",
     "text": [
      "0.3324607291912278 0.42966287760655103 0.1\n",
      "[0.721074, 0.666084, 0.658814]\n",
      "Param found with convergence SUCCESS, the value of the objective is 1.506397734181458e-6\n",
      "0.3324607277586237  0.42966287529617386\n"
     ]
    },
    {
     "data": {
      "text/plain": [
       "2×5 Array{Float64,2}:\n",
       " 0.106317   0.262027   0.355445  0.329717  0.332461\n",
       " 0.0216856  0.0408066  0.106458  0.21395   0.429663"
      ]
     },
     "execution_count": 4,
     "metadata": {},
     "output_type": "execute_result"
    }
   ],
   "source": [
    "## generate a Country object with new values for alpha, m, q and lambda\n",
    "function update_Country(alpha,m,q,C::Country)\n",
    "    Country(C.reform,C.A,C.Amin,C.Amax,C.r,C.c0,\n",
    "        alpha, q, m,lambda_function(q),lambda_function(q),\n",
    "        C.uinit,C.bUI,C.b0max,C.b0min,C.wbar)\n",
    "end\n",
    "\n",
    "## compute the objective to minimise\n",
    "function objective_fr(alpha,m,q,C::Country)\n",
    "    newC = update_Country(alpha,m,q,C)\n",
    "    \n",
    "    ## simulate\n",
    "    simu = find_simu(newC,reltol=1e-6)\n",
    "    unemp = find_unemp(simu, newC, unitSS = false) \n",
    "    moments_emp = moments_france(unemp,simu,newC)\n",
    "    \n",
    "    IJulia.clear_output(true)\n",
    "    println(alpha,\" \",m,\" \",q)\n",
    "    println(moments_emp)\n",
    "    \n",
    "    distance(moments_emp,moments_target)\n",
    "end\n",
    "\n",
    "function find_france(q,C::Country)\n",
    "    opt = Opt(:LN_BOBYQA, 2)\n",
    "    lower_bounds!(opt, [0.1 , 0.])\n",
    "    upper_bounds!(opt, [10. , 1.])\n",
    "    xtol_rel!(opt,1e-8)\n",
    "    stopval!(opt,1e-15)\n",
    "    min_objective!(opt, (v,g)-> objective_fr(v[1],v[2],q,C))\n",
    "    \n",
    "    init =  [0.6, 0.7] \n",
    "    \n",
    "    (minf,minx,ret) = optimize(opt, init) \n",
    "    println(\"Param found with convergence \", ret, \", the value of the objective is \",minf)\n",
    "    println(minx[1], \"  \",minx[2])\n",
    "    return(minx)\n",
    "end\n",
    "\n",
    "q_vec = [0.005, 0.01, 0.025, 0.05, 0.1]\n",
    "am_vec = zeros(2,5)\n",
    "for (i,q) in enumerate(q_vec)\n",
    "    am_vec[:,i] =  find_france(q,france)\n",
    "end\n",
    "am_vec"
   ]
  },
  {
   "cell_type": "markdown",
   "metadata": {},
   "source": [
    "# 2) Statistics for each value of $q$"
   ]
  },
  {
   "cell_type": "code",
   "execution_count": 5,
   "metadata": {},
   "outputs": [
    {
     "data": {
      "text/plain": [
       "6×5 Array{Float64,2}:\n",
       " 71.3952     71.5015     71.7904     72.0293     72.1074   \n",
       " 68.1491     68.0095     67.5799     67.0553     66.6078   \n",
       " 65.0578     65.1036     65.2538     65.5317     65.8814   \n",
       "  0.0350824   0.0369089   0.0428786   0.0546188   0.0860489\n",
       "  0.0224442   0.0428922   0.126155    0.285951    0.586755 \n",
       "  0.0024881   0.0138574   0.0501817   0.11503     0.242262 "
      ]
     },
     "execution_count": 5,
     "metadata": {},
     "output_type": "execute_result"
    }
   ],
   "source": [
    "lam_vec = zeros(length(q_vec))\n",
    "jfr0bef_vec = zeros(length(q_vec))\n",
    "jfr0aft_vec = zeros(length(q_vec))\n",
    "mom_vec = zeros(length(moments_target),length(q_vec))\n",
    "\n",
    "for (i,q) in enumerate(q_vec)\n",
    "    newC = update_Country(am_vec[1,i], am_vec[2,i], q, france)\n",
    "    lam_vec[i] = newC.lambdamin\n",
    "    simu_fr = find_simu(newC,reltol=1e-5)\n",
    "    jfr0bef_vec[i] = JFrate(simu_fr.Xbar1(22*12),newC)\n",
    "    jfr0aft_vec[i] = JFrate(simu_fr.Xbar1(newC.A),newC)\n",
    "    \n",
    "    unemp_fr = find_unemp(simu_fr, newC, unitSS = false) \n",
    "    mom_vec[:,i] = moments_france(unemp_fr,simu_fr,newC)\n",
    "end\n",
    "\n",
    "mid_vec = vcat(mom_vec .*100 ,lam_vec',jfr0bef_vec',jfr0aft_vec')"
   ]
  },
  {
   "cell_type": "markdown",
   "metadata": {},
   "source": [
    "# 3) RDD for each value of $q$"
   ]
  },
  {
   "cell_type": "code",
   "execution_count": 6,
   "metadata": {},
   "outputs": [
    {
     "data": {
      "text/plain": [
       "5-element Array{Float64,1}:\n",
       " -0.3271585091584752 \n",
       " -0.19571575812665676\n",
       " -0.11149842141566535\n",
       " -0.08470661499285392\n",
       " -0.07111227611661386"
      ]
     },
     "execution_count": 6,
     "metadata": {},
     "output_type": "execute_result"
    }
   ],
   "source": [
    "coef_vec = zeros(length(q_vec))\n",
    "late_vec = zeros(length(q_vec))\n",
    "\n",
    "age_grid = 20:35\n",
    "for (i,q) in enumerate(q_vec)\n",
    "    newC = update_Country(am_vec[1,i], am_vec[2,i], q, france)\n",
    "    simu_fr = find_simu(newC,reltol=1e-5)\n",
    "    unemp_fr = find_unemp(simu_fr, newC, unitSS = false) \n",
    "\n",
    "    ## employment rate as dependent variable\n",
    "    Y = [quadgk(x->1-sum(unemp_fr(x)[:]) ,m,m+12)[1]/12 for m in 12*age_grid] \n",
    "\n",
    "    # linear spline\n",
    "    TREAT = [a>=france.A for a in age_grid*12]\n",
    "    consta = ones(size(age_grid))\n",
    "    age1 = collect(age_grid*12)\n",
    "    age2 = age1 .^2\n",
    "    age3 = age1 .^3\n",
    "    age1_spl = (age1 .- france.A) .* TREAT \n",
    "    X = hcat(TREAT, consta, age1, age1_spl)\n",
    "    beta = inv(X' * X) * (X' * Y)\n",
    "    coef_vec[i] = beta[1]\n",
    "\n",
    "    unemp_fr_counter0 = find_unemp_counter0(simu_fr, newC, unitSS = false) \n",
    "    unemp_fr_counter1 = find_unemp_counter1(simu_fr, newC, unitSS = false) \n",
    "\n",
    "    emp_after = 1-sum(unemp_fr_counter1(newC.A)[:])\n",
    "    emp_before = 1-sum(unemp_fr_counter0(newC.A)[:])\n",
    "    late_vec[i] = emp_after-emp_before\n",
    "end\n",
    "\n",
    "late_vec"
   ]
  },
  {
   "cell_type": "markdown",
   "metadata": {},
   "source": [
    "# The final table is"
   ]
  },
  {
   "cell_type": "code",
   "execution_count": 7,
   "metadata": {},
   "outputs": [
    {
     "data": {
      "text/plain": [
       "12×5 Array{Float64,2}:\n",
       "  0.005       0.01        0.025       0.05        0.1      \n",
       "  0.106317    0.262027    0.355445    0.329717    0.332461 \n",
       "  0.0216856   0.0408066   0.106458    0.21395     0.429663 \n",
       " 71.3952     71.5015     71.7904     72.0293     72.1074   \n",
       " 68.1491     68.0095     67.5799     67.0553     66.6078   \n",
       " 65.0578     65.1036     65.2538     65.5317     65.8814   \n",
       "  0.0350824   0.0369089   0.0428786   0.0546188   0.0860489\n",
       "  0.0224442   0.0428922   0.126155    0.285951    0.586755 \n",
       "  0.0024881   0.0138574   0.0501817   0.11503     0.242262 \n",
       " -0.049      -0.049      -0.049      -0.049      -0.049    \n",
       " -0.0759403  -0.0886197  -0.0727194  -0.0558992  -0.0541496\n",
       " -0.327159   -0.195716   -0.111498   -0.0847066  -0.0711123"
      ]
     },
     "execution_count": 7,
     "metadata": {},
     "output_type": "execute_result"
    }
   ],
   "source": [
    "vcat(q_vec',am_vec,mid_vec,-0.049 .* ones(length(q_vec))',coef_vec',late_vec')"
   ]
  }
 ],
 "metadata": {
  "@webio": {
   "lastCommId": null,
   "lastKernelId": null
  },
  "kernelspec": {
   "display_name": "Julia 1.1.1",
   "language": "julia",
   "name": "julia-1.1"
  },
  "language_info": {
   "file_extension": ".jl",
   "mimetype": "application/julia",
   "name": "julia",
   "version": "1.1.1"
  }
 },
 "nbformat": 4,
 "nbformat_minor": 2
}

{
 "cells": [
  {
   "cell_type": "code",
   "execution_count": 1,
   "metadata": {},
   "outputs": [],
   "source": [
    "## call the main routines\n",
    "using NBInclude\n",
    "@nbinclude(\"core_fun.ipynb\");"
   ]
  },
  {
   "cell_type": "markdown",
   "metadata": {},
   "source": [
    "We fix the parameters for the case of Austria in an object of type Country. The calibrated values for $\\alpha$ and $m$ are obtained latter on."
   ]
  },
  {
   "cell_type": "code",
   "execution_count": 2,
   "metadata": {},
   "outputs": [],
   "source": [
    "austria = let \n",
    "    \n",
    "    reform = 2\n",
    "    A = 50. * 12\n",
    "    Amin = 46. * 12\n",
    "    Amax = 54. * 12\n",
    "    \n",
    "    r = 0.0048 # 5 % annual interest rate, time unit = month\n",
    "    c0 = 1. # scale parameter of the cost function, normalized to 1\n",
    "    q = 0.02 ## 1-exp(-12q) should be cluose to 0.22~0.25\n",
    "    lambdamax = 1/(39*12/52) ## 39 weeks eligibility\n",
    "    lambdamin = 1/(209*12/52) ## 209 weeks\n",
    "    \n",
    "    ### to be updated after the calibration\n",
    "    alpha, m =0.02, 0.07\n",
    " \n",
    "    uinit = [0.,0.] ## useless parameters\n",
    "    \n",
    "    wbar = 1. # normalization\n",
    "    bUI = 0.6 * wbar  #  Lalive says 0.4 + family allowances\n",
    "    b0max = 0.7 * bUI # median UA for the median UI, Lalive\n",
    "    b0min = b0max \n",
    "    \n",
    "    Country(reform,A,Amin,Amax,r,c0,alpha,q,m,lambdamin,lambdamax,uinit,bUI,b0max,b0min,wbar)\n",
    "end\n",
    ";"
   ]
  },
  {
   "cell_type": "code",
   "execution_count": 3,
   "metadata": {},
   "outputs": [
    {
     "name": "stdout",
     "output_type": "stream",
     "text": [
      "  3.659746 seconds (5.86 M allocations: 295.883 MiB, 5.87% gc time)\n",
      "  0.514295 seconds (1.26 M allocations: 44.626 MiB, 4.47% gc time)\n",
      "  0.593218 seconds (650.83 k allocations: 32.026 MiB, 2.07% gc time)\n",
      "  0.569877 seconds (1.73 M allocations: 53.003 MiB, 3.95% gc time)\n",
      "3.351408892483491 10.593629 seconds (101.51 M allocations: 1.734 GiB, 4.32% gc time)\n"
     ]
    }
   ],
   "source": [
    "## precompile functions\n",
    "let \n",
    "    a=49.75*12\n",
    "    B=6.2\n",
    "    D=15.4\n",
    "    simu_aus = find_simu(austria,reltol=1e-5) \n",
    "    @time fUI(B, a, simu_aus,austria) \n",
    "    @time expectedB(a, simu_aus,austria)\n",
    "    @time integrand_fNE(B, D, a,simu_aus,austria)\n",
    "    @time fNE(D, a, simu_aus, austria) \n",
    "    @time print(expectedD(a, simu_aus,austria))\n",
    "end"
   ]
  },
  {
   "cell_type": "markdown",
   "metadata": {},
   "source": [
    "# 1) Find $\\alpha$ and $m$ for different values of $q$\n",
    "We take as moments the expected duration before and after the threshold at age 50."
   ]
  },
  {
   "cell_type": "code",
   "execution_count": 4,
   "metadata": {},
   "outputs": [
    {
     "name": "stdout",
     "output_type": "stream",
     "text": [
      "[3.50769, 6.83077]\n"
     ]
    },
    {
     "data": {
      "text/plain": [
       "distance (generic function with 1 method)"
      ]
     },
     "execution_count": 4,
     "metadata": {},
     "output_type": "execute_result"
    }
   ],
   "source": [
    "## We use the method of Simpson to compute the integral instead of the quadgk function\n",
    "## because computing expectedD is already time-consuming\n",
    "quadSimpson(fun,a,b) = (b-a)/6 * (fun(a) + 4*fun((a+b)/2) + fun(b)) \n",
    "function moments_austria(simu::Simu,C::Country)\n",
    "    expD1 = quadSimpson(x->expectedD(x,simu,C) ,12*49.75, 12*49.99) / (12*49.99-12*49.75)\n",
    "    expD2 = quadSimpson(x->expectedD(x,simu,C) ,12*50.01, 12*50.25) / (12*50.25-12*50.01)\n",
    "    #expD1 = quadgk(x->expectedD(x,simu,C) ,12*49.75, 12*49.99)[1] / (12*49.99-12*49.75)\n",
    "    #expD2 = quadgk(x->expectedD(x,simu,C) ,12*50.01, 12*50.25)[1] / (12*50.25-12*50.01)\n",
    "    #expD1 = expectedD(49.75 *12,simu,C)\n",
    "    #expD2 = expectedD(50.25 *12,simu,C)\n",
    "    return([expD1, expD2])\n",
    "end\n",
    "\n",
    "moments_target = [15.2*12/52, 29.6*12/52]\n",
    "println(moments_target)\n",
    "\n",
    "function distance(m1,m2)\n",
    "    out = 0\n",
    "    for i in 1:length(m1)\n",
    "        out += (m1[i] - m2[i]) ^2\n",
    "    end\n",
    "    return(out)\n",
    "end"
   ]
  },
  {
   "cell_type": "markdown",
   "metadata": {},
   "source": [
    "We calibrate our model to determine the values of $\\alpha$ and $m$ for different values of $q$."
   ]
  },
  {
   "cell_type": "code",
   "execution_count": 5,
   "metadata": {},
   "outputs": [
    {
     "name": "stdout",
     "output_type": "stream",
     "text": [
      "0.0770454817057752 0.2822451858703634\n",
      "[3.5077, 6.83074]\n",
      "Param found with convergence STOPVAL_REACHED, the value of the objective is 1.0832432757462314e-9\n",
      "0.0770454817057752  0.2822451858703634\n"
     ]
    },
    {
     "data": {
      "text/plain": [
       "2×5 Array{Float64,2}:\n",
       " 0.00783389  0.0117762  0.0233762  0.0420305  0.0770455\n",
       " 0.0268832   0.0407797  0.0826095  0.151536   0.282245 "
      ]
     },
     "execution_count": 5,
     "metadata": {},
     "output_type": "execute_result"
    }
   ],
   "source": [
    "## generate a Country object with new values for alpha, m and q\n",
    "function update_Country(alpha,m,q, C::Country)\n",
    "    Country(C.reform,C.A,C.Amin,C.Amax,C.r,C.c0,\n",
    "        alpha, q, m,C.lambdamin,C.lambdamax,\n",
    "        C.uinit,C.bUI,C.b0max,C.b0min,C.wbar)\n",
    "end\n",
    "\n",
    "## compute the objective to minimise\n",
    "function objective_aus(alpha,m,q,C::Country)\n",
    "    newC = update_Country(alpha,m,q,C)\n",
    "\n",
    "    ## simulate\n",
    "    simu = find_simu(newC,reltol=1e-5)\n",
    "    moments_emp = moments_austria(simu,newC)\n",
    "    \n",
    "    IJulia.clear_output(true)\n",
    "    println(alpha,\" \",m)\n",
    "    println(moments_emp)\n",
    "    \n",
    "    distance(moments_emp, moments_target) \n",
    "end\n",
    "\n",
    "function find_austria(q,C::Country)\n",
    "    opt = Opt(:LN_BOBYQA, 2)\n",
    "    lower_bounds!(opt, [0.005 , 0.])\n",
    "    upper_bounds!(opt, [2. , 1.])\n",
    "    xtol_rel!(opt,1e-8)\n",
    "    stopval!(opt,1e-8)\n",
    "    min_objective!(opt, (v,g)-> objective_aus(v[1],v[2],q,C))\n",
    "\n",
    "    init = [0.02, 0.07]\n",
    "\n",
    "    (minf,minx,ret) = optimize(opt, init) \n",
    "    println(\"Param found with convergence \", ret, \", the value of the objective is \",minf)\n",
    "    println(minx[1], \"  \",minx[2])\n",
    "    return(minx)\n",
    "end\n",
    "\n",
    "q_vec = [0.005, 0.01, 0.025, 0.05, 0.1]\n",
    "am_vec = zeros(2,5)\n",
    "for (i,q) in enumerate(q_vec)\n",
    "    am_vec[:,i] =  find_austria(q,austria)\n",
    "end\n",
    "am_vec"
   ]
  },
  {
   "cell_type": "markdown",
   "metadata": {},
   "source": [
    "# 2) Statistics for each value of $q$"
   ]
  },
  {
   "cell_type": "code",
   "execution_count": 6,
   "metadata": {},
   "outputs": [
    {
     "data": {
      "text/plain": [
       "3×5 Array{Float64,2}:\n",
       " 0.218311  0.216655  0.212039  0.205303  0.194679\n",
       " 0.220235  0.220442  0.221077  0.222094  0.224044\n",
       " 0.130074  0.130076  0.130076  0.130078  0.130081"
      ]
     },
     "execution_count": 6,
     "metadata": {},
     "output_type": "execute_result"
    }
   ],
   "source": [
    "jfrUI_bef_vec = zeros(length(q_vec))\n",
    "jfrUI_lmax_aft_vec = zeros(length(q_vec))\n",
    "jfrUI_lmin_aft_vec = zeros(length(q_vec))\n",
    "mom_vec = zeros(length(moments_target),length(q_vec))\n",
    "\n",
    "for (i,q) in enumerate(q_vec)\n",
    "    newC = update_Country(am_vec[1,i], am_vec[2,i], q, austria)\n",
    "    simu_aus = find_simu(newC,reltol=1e-5)\n",
    "    jfrUI_bef_vec[i] = JFrate(simu_aus.Xbar2(49*12),newC)\n",
    "    jfrUI_lmax_aft_vec[i] = JFrate(simu_aus.Ybar[2],newC)\n",
    "    jfrUI_lmin_aft_vec[i] = JFrate(simu_aus.Ybar[3],newC)\n",
    "\n",
    "    mom_vec[:,i] = moments_austria(simu_aus,newC)\n",
    "end\n",
    "\n",
    "mom_vec\n",
    "mid_vec = vcat(jfrUI_bef_vec',jfrUI_lmax_aft_vec',jfrUI_lmin_aft_vec')"
   ]
  },
  {
   "cell_type": "markdown",
   "metadata": {},
   "source": [
    "# 3) RDD for each value of $q$"
   ]
  },
  {
   "cell_type": "code",
   "execution_count": 7,
   "metadata": {},
   "outputs": [
    {
     "data": {
      "text/plain": [
       "5-element Array{Float64,1}:\n",
       " 14.311856805971138\n",
       " 14.224686127175872\n",
       " 13.979913977132805\n",
       " 13.6114359325154  \n",
       " 13.003272884153667"
      ]
     },
     "execution_count": 7,
     "metadata": {},
     "output_type": "execute_result"
    }
   ],
   "source": [
    "coef_vec = zeros(length(q_vec))\n",
    "late_vec = zeros(length(q_vec))\n",
    "\n",
    "## simulated data, monthly\n",
    "age_grid = 46:(1/12):54\n",
    "for (i,q) in enumerate(q_vec)\n",
    "    newC = update_Country(am_vec[1,i], am_vec[2,i], q, austria)\n",
    "    simu_aus = find_simu(newC,reltol=1e-5)\n",
    " \n",
    "    #Y = [quadgk(x->expectedD(x,simu_aus,newC) ,m,m+1)[1] for m in 12*age_grid] \n",
    "    Y = [quadSimpson(x->expectedD(x,simu_aus,newC) ,m,m+0.999999) for m in 12*age_grid] ./0.999999\n",
    "    \n",
    "    ## linear spline\n",
    "    TREAT = [a>=austria.A for a in age_grid*12]\n",
    "    consta = ones(size(age_grid))\n",
    "    age1 = collect(age_grid*12)\n",
    "    age1_spl = (age1 .- austria.A) .* TREAT \n",
    "    X = hcat(TREAT, consta, age1, age1_spl)\n",
    "    beta = inv(X' * X) * (X' * Y)\n",
    "    coef_vec[i] = beta[1] * 52/12\n",
    "\n",
    "    \n",
    "    ## simulated effect of the policy at age A\n",
    "    mu0 = JFrate(simu_aus.Ybar[4],newC)\n",
    "    muUI = JFrate(simu_aus.Ybar[5],newC) \n",
    "    lam = newC.lambdamax\n",
    "    expDcounter0 = ((mu0-muUI)/((lam+muUI)*(mu0-lam-muUI)) - lam/(mu0*(mu0-lam-muUI)))\n",
    "    expDcounter1 = expectedD(newC.Amax,simu_aus,newC)\n",
    "    late_vec[i] = (expDcounter1-expDcounter0)*52/12\n",
    "end\n",
    "\n",
    "late_vec"
   ]
  },
  {
   "cell_type": "markdown",
   "metadata": {},
   "source": [
    "# The final table is"
   ]
  },
  {
   "cell_type": "code",
   "execution_count": 8,
   "metadata": {},
   "outputs": [
    {
     "data": {
      "text/plain": [
       "9×5 Array{Float64,2}:\n",
       "  0.005        0.01        0.025       0.05        0.1      \n",
       "  0.00783389   0.0117762   0.0233762   0.0420305   0.0770455\n",
       "  0.0268832    0.0407797   0.0826095   0.151536    0.282245 \n",
       "  0.218311     0.216655    0.212039    0.205303    0.194679 \n",
       "  0.220235     0.220442    0.221077    0.222094    0.224044 \n",
       "  0.130074     0.130076    0.130076    0.130078    0.130081 \n",
       " 14.8         14.8        14.8        14.8        14.8      \n",
       " 14.3557      14.311      14.1855     13.9916     13.6603   \n",
       " 14.3119      14.2247     13.9799     13.6114     13.0033   "
      ]
     },
     "execution_count": 8,
     "metadata": {},
     "output_type": "execute_result"
    }
   ],
   "source": [
    "vcat(q_vec',am_vec,mid_vec,14.8 .* ones(length(q_vec))',coef_vec',late_vec')"
   ]
  }
 ],
 "metadata": {
  "kernelspec": {
   "display_name": "Julia 1.1.1",
   "language": "julia",
   "name": "julia-1.1"
  },
  "language_info": {
   "file_extension": ".jl",
   "mimetype": "application/julia",
   "name": "julia",
   "version": "1.1.1"
  }
 },
 "nbformat": 4,
 "nbformat_minor": 2
}

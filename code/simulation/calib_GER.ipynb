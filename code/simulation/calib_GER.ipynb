{
 "cells": [
  {
   "cell_type": "code",
   "execution_count": null,
   "metadata": {},
   "outputs": [],
   "source": [
    "using NBInclude, NLopt\n",
    "_PRECOMPILE_=true\n",
    "_LC_=true\n",
    "@nbinclude(\"startup_GER.ipynb\")"
   ]
  },
  {
   "cell_type": "markdown",
   "metadata": {},
   "source": [
    "# 1) Find the parameters of the benchmark model"
   ]
  },
  {
   "cell_type": "markdown",
   "metadata": {},
   "source": [
    "We calibrate our model to determine the values of $\\alpha$, $m$ and $q_A$."
   ]
  },
  {
   "cell_type": "code",
   "execution_count": null,
   "metadata": {},
   "outputs": [],
   "source": [
    "myq0 = 0.02\n",
    "\n",
    "function distance(m1,m2)\n",
    "    out = 0\n",
    "    for i in 1:length(m1)\n",
    "        out += (m1[i] - m2[i]) ^2\n",
    "    end\n",
    "    return(out)\n",
    "end\n",
    "\n",
    "## compute the objective to minimise\n",
    "function objective_ger(α,m,q0,qa)\n",
    "    newC = update_Country2(α=α, m=m, q0=q0, qa=qa, λ0=1/12, λ1=1/18)\n",
    "\n",
    "    ## simulate\n",
    "    V = find_Surplus(newC,reltol=1e-12, findΨ=false)\n",
    "    moments_emp = moments_germany(V,newC)\n",
    "    \n",
    "    ## printed info\n",
    "  #  IJulia.clear_output(true)\n",
    "  #  println(\"Current parameters: $α, $m, $q0, $qa\")\n",
    "    \n",
    "    out = distance(moments_emp, moments_target) \n",
    "  #  print(\"$out - \")\n",
    "    out\n",
    "end"
   ]
  },
  {
   "cell_type": "code",
   "execution_count": null,
   "metadata": {},
   "outputs": [],
   "source": [
    "## distance minimisation with NLopt (/!\\ time-consuming)\n",
    "@time parmin = let\n",
    "    opt = Opt(:LN_BOBYQA, 4)\n",
    "    lower_bounds!(opt, [0.005 , 0., myq0, -0.001])\n",
    "    upper_bounds!(opt, [2. , 1., myq0, 0.001])\n",
    "    xtol_rel!(opt,1e-12) \n",
    "    maxtime!(opt, 3600)\n",
    "    min_objective!(opt, (v,g)-> objective_ger(v[1],v[2],v[3],v[4]))\n",
    "\n",
    "    init = [0.8, 0.1, myq0, 0.]\n",
    "\n",
    "    (minf,minx,ret) = optimize(opt, init) \n",
    "    println(\"Parameters found with convergence $ret, the value of the objective is $minf\")\n",
    "    println(\"Parameters: \")\n",
    "    println(\" - α= \", minx[1])\n",
    "    println(\" - m= \", minx[2])\n",
    "    println(\" - q0= \", minx[3])\n",
    "    println(\" - qa= \", minx[4])\n",
    "    println(\" - λ0= \", 1/12)\n",
    "    println(\" - λ1= \", 1/18)\n",
    "    minx\n",
    "end\n",
    ";"
   ]
  },
  {
   "cell_type": "markdown",
   "metadata": {},
   "source": [
    "# 2) Sensitivity: find the parameters with alternative values of $q_0$\n",
    "Find the parameters for $q_0=0.005, 0.01, 0.025, 0.05, 0.1$."
   ]
  },
  {
   "cell_type": "code",
   "execution_count": null,
   "metadata": {},
   "outputs": [],
   "source": [
    "function objective_ger2(α,m,q0,qa)\n",
    "    try objective_ger(α,m,q0,qa)\n",
    "    catch\n",
    "        Inf\n",
    "    end\n",
    "end\n",
    "\n",
    "\n",
    "function find_germany(q0; init = [0.8, 0.1, 0.])\n",
    "    opt = Opt(:LN_SBPLX, 3)\n",
    "    lower_bounds!(opt, [0.005 , 0., -0.0005])\n",
    "    upper_bounds!(opt, [3. , 1., 0.0005])\n",
    "    xtol_rel!(opt,1e-12)\n",
    "    maxtime!(opt, 12*3600)\n",
    "    min_objective!(opt, (v,g)-> objective_ger2(v[1],v[2],q0, v[3]))\n",
    "\n",
    "    (minf,minx,ret) = optimize(opt, init) \n",
    "    println(\"Parameters found with convergence $ret, the value of the objective is $minf\")\n",
    "    println(\"Parameters: \")\n",
    "    println(\" - α= \", minx[1])\n",
    "    println(\" - m= \", minx[2])\n",
    "    println(\" - q0= \", q0)\n",
    "    println(\" - qa= \", minx[3])\n",
    "    return(minx, minf)\n",
    "end\n",
    "\n",
    "q0_vec = [0.01 0.025 0.05 0.075 0.1]\n",
    "#[0.005 0.01 0.025 0.05 0.1]\n",
    "amqa_vec = zeros(3,5)\n",
    "objectivevalue = zeros(5)\n",
    "let\n",
    "   @time  amqa_vec[:,1], objectivevalue[1]  =  find_germany(q0_vec[1], init = [0.7, 0.09, 1e-5])\n",
    "   @time  amqa_vec[:,2], objectivevalue[2]  =  find_germany(q0_vec[2], init = [1.1, 0.1, 3e-5])\n",
    "   @time  amqa_vec[:,3], objectivevalue[3]  =  find_germany(q0_vec[3], init = [1.7, 0.13, 8e-5])\n",
    "   @time  amqa_vec[:,4], objectivevalue[4]  =  find_germany(q0_vec[4], init = [2.3, 0.13, 1e-4]) \n",
    "   @time  amqa_vec[:,5], objectivevalue[5]  =  find_germany(q0_vec[5], init = [2.9, 0.13, 2e-4]) \n",
    "end\n",
    "\n",
    "println(objectivevalue)\n",
    "out = vcat(q0_vec,amqa_vec)\n",
    "show(out)\n",
    "out"
   ]
  }
 ],
 "metadata": {
  "@webio": {
   "lastCommId": null,
   "lastKernelId": null
  },
  "kernelspec": {
   "display_name": "Julia 1.9.3",
   "language": "julia",
   "name": "julia-1.9"
  },
  "language_info": {
   "file_extension": ".jl",
   "mimetype": "application/julia",
   "name": "julia",
   "version": "1.9.3"
  }
 },
 "nbformat": 4,
 "nbformat_minor": 4
}

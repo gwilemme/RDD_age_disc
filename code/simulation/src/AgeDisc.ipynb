{
 "cells": [
  {
   "cell_type": "code",
   "execution_count": null,
   "metadata": {},
   "outputs": [],
   "source": [
    "module AgeDisc\n",
    "\n",
    "using NBInclude:@nbinclude\n",
    "using NLopt, DifferentialEquations, PyPlot, QuadGK, Random, Roots\n",
    "\n",
    "@nbinclude(\"structure.ipynb\")\n",
    "export Country1, Country2, Baux, Surplus, Unemp\n",
    "\n",
    "@nbinclude(\"surplus.ipynb\")\n",
    "export find_Surplus\n",
    "\n",
    "@nbinclude(\"stocks.ipynb\")\n",
    "export JFR, find_Unemp\n",
    "\n",
    "@nbinclude(\"duration.ipynb\")\n",
    "export expectedB, expectedB_with, expectedB_without, expectedD, expectedD_with, expectedD_without, average_U5\n",
    "\n",
    "@nbinclude(\"graphics.ipynb\")\n",
    "export plot_fit, plot_surplus, plot_JFR, plot_unemp, plot_emp, plot_expectedB, plot_expectedD\n",
    "\n",
    "end"
   ]
  }
 ],
 "metadata": {
  "kernelspec": {
   "display_name": "Julia 1.9.3",
   "language": "julia",
   "name": "julia-1.9"
  },
  "language_info": {
   "file_extension": ".jl",
   "mimetype": "application/julia",
   "name": "julia",
   "version": "1.9.3"
  }
 },
 "nbformat": 4,
 "nbformat_minor": 2
}

{
 "cells": [
  {
   "cell_type": "code",
   "execution_count": null,
   "metadata": {},
   "outputs": [],
   "source": [
    "using NBInclude, NLopt\n",
    "_PRECOMPILE_=true\n",
    "_LC_=true\n",
    "@nbinclude(\"startup_GER.ipynb\")"
   ]
  },
  {
   "cell_type": "markdown",
   "metadata": {},
   "source": [
    "# 1) Find the parameters of the benchmark model\n",
    "We take as moments the expected duration of nonemployment and UI, and the cumulated duration of nonemployment."
   ]
  },
  {
   "cell_type": "markdown",
   "metadata": {},
   "source": [
    "We calibrate first our model to determine the values of $\\alpha$, $m$ and $q_a$, $\\lambda_1$ and $\\lambda_0$, while fixing $q_0=0.02$."
   ]
  },
  {
   "cell_type": "code",
   "execution_count": null,
   "metadata": {},
   "outputs": [],
   "source": [
    "function distance_noq(m1,m2)\n",
    "    out = 0\n",
    "    for i in 1:length(m1[1])\n",
    "        out += (m1[1][i] - m2[1][i]) ^2 / length(m1[1])\n",
    "        out += (m1[2][i] - m2[2][i]) ^2 / length(m1[1])\n",
    "    end\n",
    "    return(out)\n",
    "end\n",
    "\n",
    "\n",
    "\n",
    "## compute the objective to minimise\n",
    "function objective_ger_noq(α, m,q0, qa, λ1, λdiff)\n",
    "    λ0=λ1+λdiff\n",
    "    \n",
    "    ## printed info\n",
    "  #  IJulia.clear_output(true)\n",
    " #   print(\"Current parameters: $α, $m, $q0, $qa, $λ1, $λ0\")\n",
    "    \n",
    "    ## simulate  \n",
    "    newC = update_Country2(α=α, m=m, q0=q0, qa=qa, λ1=λ1, λ0=λ0)\n",
    "    V = find_Surplus(newC,reltol=1e-12, findΨ=false) \n",
    "    moments_emp = moments_germany_UInoq(V,newC)\n",
    "    out = distance_noq(moments_emp, moments_target_UI)\n",
    "  #  print(\" $(round(out,sigdigits=5))\")\n",
    "  #  println()\n",
    "    return out\n",
    "end\n",
    "\n",
    "## distance minimisation with NLopt (/!\\ time-consuming)\n",
    "println()\n",
    "println(\"Find α, m, λ1 and λ0 given q0=0.02.\")\n",
    "@time parmin_noq = let\n",
    "    opt = Opt(:LN_BOBYQA, 6)\n",
    "    lower_bounds!(opt, [0.1 , 0., 0.02, -0.001, 0., 0.])\n",
    "    upper_bounds!(opt, [10. , 1., 0.02, 0.001, 0.2, 1.])\n",
    "    xtol_rel!(opt,1e-12) \n",
    "    maxtime!(opt, 3600)\n",
    "    min_objective!(opt, (v,g)-> objective_ger_noq(v[1],v[2],v[3],v[4],v[5],v[6]))\n",
    "    \n",
    "    init = [1., 0.1, 0.02, 0., 0.06, 0.03]\n",
    "\n",
    "    (minf,minx,ret) = optimize(opt, init) \n",
    "    println(\"Parameters found with convergence $ret, the value of the objective is $minf\")\n",
    "    println(\"Parameters: \")\n",
    "    println(\" - α= \", minx[1])\n",
    "    println(\" - m= \", minx[2])\n",
    "    println(\" - q0= \", minx[3])\n",
    "    println(\" - qa= \", minx[4])\n",
    "    println(\" - λ1= \", minx[5])\n",
    "    println(\" - λ0= λ1 + \", minx[6])\n",
    "    minx\n",
    "end"
   ]
  },
  {
   "cell_type": "markdown",
   "metadata": {},
   "source": [
    "We calibrate our model to determine the values of $\\alpha$, $m$, $q_0$ and $q_A$, $\\lambda_1$ and $\\lambda_0$."
   ]
  },
  {
   "cell_type": "code",
   "execution_count": null,
   "metadata": {},
   "outputs": [],
   "source": [
    "function distance(m1,m2)\n",
    "    out = 0\n",
    "    for i in 1:length(m1[1])\n",
    "        out += (m1[1][i] - m2[1][i]) ^2 / length(m1[1])\n",
    "        out += (m1[2][i] - m2[2][i]) ^2 / length(m1[1])\n",
    "    end\n",
    "    out += (m1[3] - m2[3]) ^2\n",
    "    return(out)\n",
    "end\n",
    "\n",
    "## compute the objective to minimise\n",
    "function objective_ger(α, m,q0, qa, λ1, λdiff)\n",
    "    λ0=λ1+λdiff\n",
    "    \n",
    "    ## printed info\n",
    "  #  IJulia.clear_output(true)\n",
    "  #  println(\"Current parameters: $α, $m, $q0, $qa, $λ1, $λ0\")\n",
    "    \n",
    "    ## simulate  \n",
    "    newC = update_Country2(α=α, m=m, q0=q0, qa=qa, λ1=λ1, λ0=λ0)\n",
    "    V = find_Surplus(newC,reltol=1e-12, findΨ=false) \n",
    "    moments_emp = moments_germany_UI(V,newC)\n",
    "    out = distance(moments_emp, moments_target_UI)\n",
    "#    print(round(out,sigdigits=5))\n",
    "    return out\n",
    "end\n",
    "\n",
    "\n",
    "function objective_ger2(α, m,q0, qa, λ1, λdiff)\n",
    "    try objective_ger(α, m,q0, qa, λ1, λdiff)\n",
    "    catch\n",
    "        Inf\n",
    "    end\n",
    "end\n",
    "\n",
    "\n",
    "## distance minimisation with NLopt (/!\\ time-consuming)\n",
    "@time parmin = let\n",
    "    opt = Opt(:LN_SBPLX, 6)\n",
    "    lower_bounds!(opt, [0.1 , 0.,0., -0.001, 0., 0.])\n",
    "    upper_bounds!(opt, [10. , 1.,0.2, 0.001, 0.2, 1.])\n",
    "    xtol_rel!(opt,1e-12) \n",
    "    maxtime!(opt, 47 * 3600)\n",
    "    min_objective!(opt, (v,g)-> objective_ger2(v[1],v[2],v[3],v[4],v[5],v[6]))\n",
    "\n",
    "    init = vcat(parmin_noq[1:5], sum(parmin_noq[5:6]))\n",
    "\n",
    "    (minf,minx,ret) = optimize(opt, init) \n",
    "    println(\"Parameters found with convergence $ret, the value of the objective is $minf\")\n",
    "    println(\"Parameters: \")\n",
    "    println(\" - α= \", minx[1])\n",
    "    println(\" - m= \", minx[2])\n",
    "    println(\" - q0= \", minx[3])\n",
    "    println(\" - qa= \", minx[4])\n",
    "    println(\" - λ1= \", minx[5])\n",
    "    println(\" - λ0= λ1 + \", minx[6])\n",
    "    minx\n",
    "end\n",
    "; "
   ]
  }
 ],
 "metadata": {
  "@webio": {
   "lastCommId": null,
   "lastKernelId": null
  },
  "kernelspec": {
   "display_name": "Julia 1.9.3",
   "language": "julia",
   "name": "julia-1.9"
  },
  "language_info": {
   "file_extension": ".jl",
   "mimetype": "application/julia",
   "name": "julia",
   "version": "1.9.3"
  }
 },
 "nbformat": 4,
 "nbformat_minor": 4
}

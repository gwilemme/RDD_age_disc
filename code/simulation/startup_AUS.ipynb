{
 "cells": [
  {
   "cell_type": "markdown",
   "metadata": {},
   "source": [
    "# Startup for Austria\n",
    "This code is to be included at the beginning of `calib_AUS` and `simu_AUS`."
   ]
  },
  {
   "cell_type": "code",
   "execution_count": 1,
   "metadata": {},
   "outputs": [
    {
     "data": {
      "text/plain": [
       "true"
      ]
     },
     "execution_count": 1,
     "metadata": {},
     "output_type": "execute_result"
    }
   ],
   "source": [
    "t0 = time() ## start chrono\n",
    "dir_module = joinpath(pwd(),\"src\")\n",
    "dir_graph = joinpath(pwd(),\"../../graphs\")\n",
    "    \n",
    "########### main module\n",
    "using NBInclude\n",
    "@nbinclude(joinpath(dir_module,\"AgeDisc.ipynb\"))\n",
    "using Main.AgeDisc\n",
    "\n",
    "########### other packages\n",
    "using QuadGK, DataFrames, PyPlot\n",
    "\n",
    "## _PRECOMPILE_ is whether to run a few functions so that they are already compiled\n",
    "if !@isdefined(_PRECOMPILE_)\n",
    "    _PRECOMPILE_ = true\n",
    "end"
   ]
  },
  {
   "cell_type": "markdown",
   "metadata": {},
   "source": [
    "# Moments"
   ]
  },
  {
   "cell_type": "code",
   "execution_count": 2,
   "metadata": {},
   "outputs": [
    {
     "data": {
      "text/plain": [
       "moments_austria (generic function with 1 method)"
      ]
     },
     "execution_count": 2,
     "metadata": {},
     "output_type": "execute_result"
    }
   ],
   "source": [
    "data_aus = DataFrame([\n",
    "(46.125, 12.4),\n",
    "(46.375, 13.8),\n",
    "(46.625, 13.9),\n",
    "(46.875, 15.7),\n",
    "(47.125, 11.4),\n",
    "(47.375, 17.4),\n",
    "(47.625, 11.),\n",
    "(47.875, 17.2),\n",
    "(48.125, 17.3),\n",
    "(48.375, 14.1),\n",
    "(48.625, 18.7),\n",
    "(48.875, 12.),\n",
    "(49.125, 12.),\n",
    "(49.375, 16.1),\n",
    "(49.625, 13.4),\n",
    "(49.875, 15.2),\n",
    "(50.125, 29.4),\n",
    "(50.375, 26.1),\n",
    "(50.625, 28.9),\n",
    "(50.875, 25.7),\n",
    "(51.125, 32.1),\n",
    "(51.375, 32.8),\n",
    "(51.625, 36.2),\n",
    "(51.875, 30.),\n",
    "(52.125, 29.9),\n",
    "(52.375, 30.7),\n",
    "(52.625, 21.9),\n",
    "(52.875, 23.8),\n",
    "(53.125, 26.6),\n",
    "(53.375, 31.6),\n",
    "(53.625, 24.8),\n",
    "(53.875, 31.)], [:age, :rate])\n",
    "\n",
    "data_aus.rate *= 12/52 ## convert to months    \n",
    "data_aus.age *=12\n",
    "\n",
    "\n",
    "moments_target, Age_vec = let\n",
    "    Age_bds = (48, 52) .*12 ## window to match the moments\n",
    "   # myselec_step1 = [i % 3 == 0 for i in 1:length(mydata.age)]\n",
    "    myselec = (Age_bds[1] .<= data_aus.age .<= Age_bds[2]) # .& myselec_step1 \n",
    "    myselec = Age_bds[1] .<= data_aus.age .<= Age_bds[2]\n",
    "    (data_aus.rate[myselec], data_aus.age[myselec])\n",
    "end\n",
    "\n",
    "function moments_austria(V::Surplus,C::Country2;\n",
    "             a_range=Age_vec)\n",
    "    ## ex: for age a in data, we compute the average between D(a-1.5) and D(a+1.5)\n",
    "    Y_vec = zeros(1+length(a_range))\n",
    "    toadd = expectedD(a_range[1]-1.5,V,C)\n",
    "    Y_vec[1] += toadd/2\n",
    "    for (i,a) in enumerate(a_range)\n",
    "        if a+1.5==C.A\n",
    "            toadd1 = expectedD(a+1.499,V,C)\n",
    "            Y_vec[i] += toadd1/2\n",
    "            toadd2 = expectedD(a+1.5,V,C)\n",
    "            Y_vec[i+1] += toadd2/2\n",
    "        else\n",
    "            toadd = expectedD(a+1.5,V,C)\n",
    "            Y_vec[i] += toadd/2\n",
    "            Y_vec[i+1] += toadd/2\n",
    "        end\n",
    "    end\n",
    "    Y_vec[1:length(a_range)]\n",
    "end\n",
    "\n",
    "#=\n",
    "function moments_austria(V::Surplus,C::Country2)\n",
    "    Y_vec = [expectedD(a,V,C) for a in Age_vec]\n",
    "    return Y_vec\n",
    "end\n",
    "=#"
   ]
  },
  {
   "cell_type": "markdown",
   "metadata": {},
   "source": [
    "# Parameters"
   ]
  },
  {
   "cell_type": "code",
   "execution_count": 3,
   "metadata": {},
   "outputs": [
    {
     "data": {
      "text/plain": [
       "3.6114668219198656"
      ]
     },
     "execution_count": 3,
     "metadata": {},
     "output_type": "execute_result"
    }
   ],
   "source": [
    "C0 = let\n",
    "    Country2(\n",
    "        A = 50. * 12, Amin = 46. *12, Amax = 54. *12, Aret=65. * 12, \n",
    "        r = 0.0048, # 5 % annual interest rate, time unit = month\n",
    "        α = NaN, m = NaN, q0=0.02, ## 1-exp(-12q) should be close to 0.22~0.25\n",
    "        qa =NaN, χ=0.59, ##59% of workers receive UI benefits\n",
    "        λ0 = 1/(39*12/52), ## 39 weeks eligibility\n",
    "        λ1 = 1/(209*12/52), ## 209 weeks\n",
    "\n",
    "        bUI = 0.6,   # replacement rate for median wage earner, Lalive\n",
    "        b0 = 0.7 * 0.6, # median UA for the median UI, Lalive\n",
    "        B1=NaN, B2=NaN, B1dif=NaN\n",
    "    )    \n",
    "end\n",
    "\n",
    "\n",
    "function update_Country2(;α=C0.α, m=C0.m, q0=C0.q0, qa=C0.qa, χ=C0.χ, Aret=C0.Aret)\n",
    "    (B1, B1dif, B2) = Baux(α=α, m=m) \n",
    "    Country2(A=C0.A, Amin=C0.Amin, Amax=C0.Amax, Aret=Aret,\n",
    "                    r=C0.r, q0=q0, qa=qa, m=m, λ1=C0.λ1, λ0=C0.λ0, α=α,χ=χ,\n",
    "                    bUI=C0.bUI, b0=C0.b0,\n",
    "                    B1=B1, B1dif=B1dif, B2=B2)\n",
    "end\n",
    "\n",
    "if _PRECOMPILE_\n",
    "    let \n",
    "        austria = update_Country2(α=0.0185, m=0.0681, qa=0.) \n",
    "        a=49.75*12\n",
    "        V = find_Surplus(austria,reltol=1e-3, findΨ=false) \n",
    "        expectedB(a, V, austria)\n",
    "        expectedD(a, V, austria)\n",
    "    end  \n",
    "end"
   ]
  },
  {
   "cell_type": "code",
   "execution_count": 4,
   "metadata": {},
   "outputs": [
    {
     "name": "stdout",
     "output_type": "stream",
     "text": [
      "C0 is Country2(600.0, 552.0, 648.0, 780.0, 0.0048, NaN, 0.02, NaN, NaN, 0.02073365231259968, 0.1111111111111111, 0.59, 0.6, 0.42, NaN, NaN, NaN)\n",
      "Startup run in 82.62006378173828 secs.\n"
     ]
    }
   ],
   "source": [
    "println(\"C0 is $C0\")\n",
    "t1 = time()\n",
    "nsec = (t1-t0)\n",
    "println(\"Startup run in $nsec secs.\")"
   ]
  }
 ],
 "metadata": {
  "kernelspec": {
   "display_name": "Julia 1.9.3",
   "language": "julia",
   "name": "julia-1.9"
  },
  "language_info": {
   "file_extension": ".jl",
   "mimetype": "application/julia",
   "name": "julia",
   "version": "1.9.3"
  }
 },
 "nbformat": 4,
 "nbformat_minor": 4
}

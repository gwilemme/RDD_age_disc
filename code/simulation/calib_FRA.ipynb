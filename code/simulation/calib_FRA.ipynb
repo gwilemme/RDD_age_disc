{
 "cells": [
  {
   "cell_type": "code",
   "execution_count": 1,
   "metadata": {},
   "outputs": [
    {
     "name": "stdout",
     "output_type": "stream",
     "text": [
      "C0 is Country1(300.0, 216.0, 432.0, 780.0, 0.0048, NaN, NaN, NaN, NaN, NaN, 0.0, [1.0, 0.0], 0.68, 0.6024096385542168, 0.23023448152535933, NaN, NaN, NaN)\n",
      "Startup run in 31.646703004837036 secs.\n"
     ]
    }
   ],
   "source": [
    "using NBInclude, NLopt\n",
    "@nbinclude(\"startup_FRA.ipynb\")"
   ]
  },
  {
   "cell_type": "markdown",
   "metadata": {},
   "source": [
    "# 1) Find the parameters of the benchmark model"
   ]
  },
  {
   "cell_type": "markdown",
   "metadata": {},
   "source": [
    "We calibrate our model to determine the values of $\\alpha$, $m$ and $q$ (and $\\lambda$)."
   ]
  },
  {
   "cell_type": "code",
   "execution_count": 2,
   "metadata": {},
   "outputs": [
    {
     "name": "stdout",
     "output_type": "stream",
     "text": [
      "Param found with convergence SUCCESS, the value of the objective is 0.00016341599713460718\n",
      "Parameters: \n",
      " - α= 0.24099219070226158\n",
      " - m= 0.27615709934433336\n",
      " - q0= 0.06830434097107665\n",
      " - qa= -7.159841894302883e-5\n",
      " 11.283769 seconds (49.49 M allocations: 4.098 GiB, 5.01% gc time, 66.55% compilation time: <1% of which was recompilation)\n"
     ]
    }
   ],
   "source": [
    "function distance(m1,m2)\n",
    "    out = 0\n",
    "    for i in 1:length(m1)\n",
    "        out += (m1[i] - m2[i]) ^2\n",
    "    end\n",
    "    return(out)\n",
    "end\n",
    "\n",
    "## compute the objective to minimise\n",
    "function objective_fr(α,m,q0,qa)\n",
    "    newC = update_Country1(α=α, m=m, q0=q0, qa=qa) \n",
    "\n",
    "    ## simulate\n",
    "    newV = find_Surplus(newC, reltol=1e-12, findΨ=false)\n",
    "    unemp = find_Unemp(newV, newC, find_with=false, find_without=false) \n",
    "    moments_emp = moments_france(unemp.real, atol=1e-8)\n",
    "    \n",
    "  #  IJulia.clear_output(true)\n",
    "  #  println(\"Current parameters: $α, $m, $q0, $qa\")\n",
    "  #  println(\"Simulated moments: $moments_emp\")\n",
    "    \n",
    "    distance(moments_emp,moments_target)\n",
    "end\n",
    "\n",
    "## distance minimisation with NLopt\n",
    "@time parmin = let\n",
    "    opt = Opt(:LN_BOBYQA, 4)\n",
    "    lower_bounds!(opt, [0.1 , 0., 0.001, -0.1])\n",
    "    upper_bounds!(opt, [10. , 1., 0.2, 0.1 ])\n",
    "    xtol_rel!(opt,1e-12)\n",
    "    min_objective!(opt, (v,g)-> objective_fr(v[1],v[2],v[3],v[4]))\n",
    "    \n",
    "    init =  [0.6, 0.7, 0.01, 0.] \n",
    "    \n",
    "    (minf,minx,ret) = optimize(opt, init) \n",
    "    println(\"Param found with convergence $ret, the value of the objective is $minf\")\n",
    "    println(\"Parameters: \")\n",
    "    println(\" - α= \", minx[1])\n",
    "    println(\" - m= \", minx[2])\n",
    "    println(\" - q0= \", minx[3])\n",
    "    println(\" - qa= \", minx[4])\n",
    "    minx\n",
    "end\n",
    ";"
   ]
  },
  {
   "cell_type": "markdown",
   "metadata": {},
   "source": [
    "# 2) Sensitivity: find the parameters with alternative values of $q_0$\n",
    "Find the parameters for $q_0=0.005, 0.01, 0.025, 0.05, 0.1$."
   ]
  },
  {
   "cell_type": "code",
   "execution_count": 3,
   "metadata": {},
   "outputs": [
    {
     "name": "stdout",
     "output_type": "stream",
     "text": [
      "Param found with convergence SUCCESS, the value of the objective is 0.0010136077147515567\n",
      "Parameters: \n",
      " - α= 0.22849509692057998\n",
      " - m= 0.04073389331497086\n",
      " - qa= -3.712082211914822e-5\n",
      " 21.990824 seconds (304.12 M allocations: 28.671 GiB, 18.65% gc time, 0.53% compilation time)\n",
      "Param found with convergence SUCCESS, the value of the objective is 0.0005578103075928695\n",
      "Parameters: \n",
      " - α= 0.3117478108428948\n",
      " - m= 0.10482000306832813\n",
      " - qa= -4.8412393275282786e-5\n",
      "  4.271295 seconds (63.71 M allocations: 5.983 GiB, 18.20% gc time)\n",
      "Param found with convergence SUCCESS, the value of the objective is 0.00022721201801000255\n",
      "Parameters: \n",
      " - α= 0.2607359798656053\n",
      " - m= 0.20474363913214377\n",
      " - qa= -6.099046958730697e-5\n",
      "  0.445127 seconds (5.26 M allocations: 466.068 MiB, 7.65% gc time)\n",
      "Param found with convergence SUCCESS, the value of the objective is 0.0001538553522629591\n",
      "Parameters: \n",
      " - α= 0.23967448574973638\n",
      " - m= 0.3029013451226111\n",
      " - qa= -7.60204363645744e-5\n",
      "  0.558719 seconds (6.77 M allocations: 597.819 MiB, 7.68% gc time)\n",
      "Param found with convergence SUCCESS, the value of the objective is 0.00019702384776465153\n",
      "Parameters: \n",
      " - α= 0.4071137102919489\n",
      " - m= 0.4427410794792553\n",
      " - qa= -9.685986337504315e-5\n",
      "  0.349131 seconds (4.41 M allocations: 390.438 MiB, 7.77% gc time)\n",
      "[0.0010136077147515567, 0.0005578103075928695, 0.00022721201801000255, 0.0001538553522629591, 0.00019702384776465153]\n",
      "[0.01 0.025 0.05 0.075 0.1; 0.22849509692057998 0.3117478108428948 0.2607359798656053 0.23967448574973638 0.4071137102919489; 0.04073389331497086 0.10482000306832813 0.20474363913214377 0.3029013451226111 0.4427410794792553; -3.712082211914822e-5 -4.8412393275282786e-5 -6.099046958730697e-5 -7.60204363645744e-5 -9.685986337504315e-5]"
     ]
    },
    {
     "data": {
      "text/plain": [
       "4×5 Matrix{Float64}:\n",
       "  0.01         0.025        0.05         0.075        0.1\n",
       "  0.228495     0.311748     0.260736     0.239674     0.407114\n",
       "  0.0407339    0.10482      0.204744     0.302901     0.442741\n",
       " -3.71208e-5  -4.84124e-5  -6.09905e-5  -7.60204e-5  -9.68599e-5"
      ]
     },
     "execution_count": 3,
     "metadata": {},
     "output_type": "execute_result"
    }
   ],
   "source": [
    "function find_france(q0)\n",
    "    opt = Opt(:LN_BOBYQA, 3)\n",
    "    lower_bounds!(opt, [0.1 , 1e-6, -0.1])\n",
    "    upper_bounds!(opt, [20. , 10., 0.1])\n",
    "    xtol_rel!(opt,1e-12)\n",
    "    min_objective!(opt, (v,g)-> objective_fr(v[1],v[2],q0, v[3]))\n",
    "    \n",
    "    init =  [0.6, 0.7, 0.] \n",
    "    \n",
    "    (minf,minx,ret) = optimize(opt, init) \n",
    "    println(\"Param found with convergence $ret, the value of the objective is $minf\")\n",
    "    println(\"Parameters: \")\n",
    "    println(\" - α= \", minx[1])\n",
    "    println(\" - m= \", minx[2])\n",
    "    println(\" - qa= \", minx[3])\n",
    "    return(minx, minf)\n",
    "end\n",
    "\n",
    "q0_vec = [0.01 0.025 0.05 0.075 0.1]\n",
    "#[0.005 0.01 0.025 0.05 0.1]\n",
    "amqa_vec = zeros(3,5)\n",
    "objectivevalue = zeros(5)\n",
    "for (i,q0) in enumerate(q0_vec)\n",
    "    @time amqa_vec[:,i], objectivevalue[i] =  find_france(q0)\n",
    "end\n",
    "\n",
    "println(objectivevalue)\n",
    "out = vcat(q0_vec,amqa_vec)\n",
    "show(out)\n",
    "out"
   ]
  },
  {
   "cell_type": "markdown",
   "metadata": {},
   "source": [
    "# 3) Sensitivity: find the parameters with alternative values of $\\xi$"
   ]
  },
  {
   "cell_type": "code",
   "execution_count": 4,
   "metadata": {},
   "outputs": [
    {
     "name": "stdout",
     "output_type": "stream",
     "text": [
      "Param found with convergence SUCCESS, the value of the objective is 0.00019404215193616556\n",
      "Parameters: \n",
      " - α= 0.23934241405757434\n",
      " - m= 0.2299570521500436\n",
      " - q0= 0.056983800301068\n",
      " - qa= -6.455667869386995e-5\n",
      "  3.396047 seconds (31.20 M allocations: 2.659 GiB, 7.39% gc time, 9.26% compilation time)\n",
      "Param found with convergence SUCCESS, the value of the objective is 0.00020398141773788307\n",
      "Parameters: \n",
      " - α= 0.2821534976596658\n",
      " - m= 0.27818244149516286\n",
      " - q0= 0.06732680444966312\n",
      " - qa= -8.148878990117824e-5\n",
      "  3.348954 seconds (31.20 M allocations: 2.662 GiB, 7.09% gc time, 0.91% compilation time)\n",
      "Param found with convergence SUCCESS, the value of the objective is 0.0002412000860313436\n",
      "Parameters: \n",
      " - α= 0.31618156437721234\n",
      " - m= 0.29151429088961134\n",
      " - q0= 0.06956356120250261\n",
      " - qa= -9.246745113898855e-5\n",
      "  3.183337 seconds (27.24 M allocations: 2.310 GiB, 6.24% gc time)\n"
     ]
    },
    {
     "name": "stderr",
     "output_type": "stream",
     "text": [
      "\u001b[33m\u001b[1m┌ \u001b[22m\u001b[39m\u001b[33m\u001b[1mWarning: \u001b[22m\u001b[39mInstability detected. Aborting\n",
      "\u001b[33m\u001b[1m└ \u001b[22m\u001b[39m\u001b[90m@ SciMLBase ~/.julia/packages/SciMLBase/2HZ5m/src/integrator_interface.jl:602\u001b[39m\n",
      "\u001b[33m\u001b[1m┌ \u001b[22m\u001b[39m\u001b[33m\u001b[1mWarning: \u001b[22m\u001b[39mInstability detected. Aborting\n",
      "\u001b[33m\u001b[1m└ \u001b[22m\u001b[39m\u001b[90m@ SciMLBase ~/.julia/packages/SciMLBase/2HZ5m/src/integrator_interface.jl:602\u001b[39m\n",
      "\u001b[33m\u001b[1m┌ \u001b[22m\u001b[39m\u001b[33m\u001b[1mWarning: \u001b[22m\u001b[39mInstability detected. Aborting\n",
      "\u001b[33m\u001b[1m└ \u001b[22m\u001b[39m\u001b[90m@ SciMLBase ~/.julia/packages/SciMLBase/2HZ5m/src/integrator_interface.jl:602\u001b[39m\n"
     ]
    },
    {
     "name": "stdout",
     "output_type": "stream",
     "text": [
      "Param found with convergence SUCCESS, the value of the objective is 0.00020549309582860604\n",
      "Parameters: \n",
      " - α= 0.33691609577306375\n",
      " - m= 0.38448245638360956\n",
      " - q0= 0.09094442237528229\n",
      " - qa= -0.0001170258767406586\n",
      "  3.470029 seconds (30.62 M allocations: 2.598 GiB, 6.91% gc time, 6.00% compilation time: 87% of which was recompilation)\n",
      "Param found with convergence SUCCESS, the value of the objective is 0.00024212571211023673\n",
      "Parameters: \n",
      " - α= 0.3602653271142106\n",
      " - m= 0.3810033261602324\n",
      " - q0= 0.08951757491483667\n",
      " - qa= -0.00012405218047344347\n",
      "  1.593237 seconds (15.35 M allocations: 1.306 GiB, 7.22% gc time)\n",
      "[0.00019404215193616556, 0.00020398141773788307, 0.0002412000860313436, 0.00020549309582860604, 0.00024212571211023673]\n",
      "[0.0 0.25 0.5 0.75 1.0; 0.23934241405757434 0.2821534976596658 0.31618156437721234 0.33691609577306375 0.3602653271142106; 0.2299570521500436 0.27818244149516286 0.29151429088961134 0.38448245638360956 0.3810033261602324; 0.056983800301068 0.06732680444966312 0.06956356120250261 0.09094442237528229 0.08951757491483667; -6.455667869386995e-5 -8.148878990117824e-5 -9.246745113898855e-5 -0.0001170258767406586 -0.00012405218047344347]"
     ]
    },
    {
     "data": {
      "text/plain": [
       "5×5 Matrix{Float64}:\n",
       "  0.0          0.25         0.5          0.75          1.0\n",
       "  0.239342     0.282153     0.316182     0.336916      0.360265\n",
       "  0.229957     0.278182     0.291514     0.384482      0.381003\n",
       "  0.0569838    0.0673268    0.0695636    0.0909444     0.0895176\n",
       " -6.45567e-5  -8.14888e-5  -9.24675e-5  -0.000117026  -0.000124052"
      ]
     },
     "execution_count": 4,
     "metadata": {},
     "output_type": "execute_result"
    }
   ],
   "source": [
    "function objective_fr(α,m,q0,qa,ξ)\n",
    "    newC = update_Country1(α=α, m=m, q0=q0, qa=qa, ξ=ξ) \n",
    "\n",
    "    ## simulate\n",
    "    newV = find_Surplus(newC, reltol=1e-12)\n",
    "    unemp = find_Unemp(newV, newC, find_with=false, find_without=false) \n",
    "    moments_emp = moments_france(unemp.real, atol=1e-8)\n",
    "    distance(moments_emp,moments_target)\n",
    "end\n",
    "\n",
    "function find_france(ξ)\n",
    "    opt = Opt(:LN_BOBYQA, 4)\n",
    "    lower_bounds!(opt, [0.1 , 0., 0.001, -0.1])\n",
    "    upper_bounds!(opt, [20. , 10., 0.2, 0.1 ])\n",
    "    xtol_rel!(opt,1e-12)\n",
    "    min_objective!(opt, (v,g)-> objective_fr(v[1],v[2],v[3],v[4],ξ))\n",
    "    \n",
    "    init =  [0.6, 0.7, 0.01, 0.] \n",
    "    \n",
    "    (minf,minx,ret) = optimize(opt, init) \n",
    "    println(\"Param found with convergence $ret, the value of the objective is $minf\")\n",
    "    println(\"Parameters: \")\n",
    "    println(\" - α= \", minx[1])\n",
    "    println(\" - m= \", minx[2])\n",
    "    println(\" - q0= \", minx[3])\n",
    "    println(\" - qa= \", minx[4])\n",
    "    return (minx,minf)\n",
    "end\n",
    "\n",
    "\n",
    "ξ_vec = [0 0.25 0.5 0.75 1]\n",
    "amq_vec = zeros(4,5)\n",
    "objectivevalue = zeros(5)\n",
    "for (i,ξ) in enumerate(ξ_vec)\n",
    "    @time amq_vec[:,i], objectivevalue[i] =  find_france(ξ)\n",
    "end\n",
    "\n",
    "\n",
    "println(objectivevalue)\n",
    "out = vcat(ξ_vec,amq_vec)\n",
    "show(out)\n",
    "out"
   ]
  }
 ],
 "metadata": {
  "@webio": {
   "lastCommId": null,
   "lastKernelId": null
  },
  "kernelspec": {
   "display_name": "Julia 1.9.3",
   "language": "julia",
   "name": "julia-1.9"
  },
  "language_info": {
   "file_extension": ".jl",
   "mimetype": "application/julia",
   "name": "julia",
   "version": "1.9.3"
  }
 },
 "nbformat": 4,
 "nbformat_minor": 4
}

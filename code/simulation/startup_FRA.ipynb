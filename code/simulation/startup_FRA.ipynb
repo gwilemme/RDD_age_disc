{
 "cells": [
  {
   "cell_type": "markdown",
   "metadata": {},
   "source": [
    "# Startup for France\n",
    "This code is to be included at the beginning of `calib_FRA` and `simu_FRA`."
   ]
  },
  {
   "cell_type": "code",
   "execution_count": 1,
   "metadata": {},
   "outputs": [],
   "source": [
    "t0 = time() ## start chrono\n",
    "dir_module = joinpath(pwd(),\"src\")\n",
    "dir_graph = joinpath(pwd(),\"../../graphs\")\n",
    "    \n",
    "########### main module\n",
    "using NBInclude\n",
    "@nbinclude(joinpath(dir_module,\"AgeDisc.ipynb\"))\n",
    "using Main.AgeDisc\n",
    "\n",
    "########### other packages\n",
    "using QuadGK, DataFrames, PyPlot"
   ]
  },
  {
   "cell_type": "markdown",
   "metadata": {},
   "source": [
    "# Moments"
   ]
  },
  {
   "cell_type": "code",
   "execution_count": 2,
   "metadata": {},
   "outputs": [
    {
     "data": {
      "text/plain": [
       "lambda_function (generic function with 1 method)"
      ]
     },
     "execution_count": 2,
     "metadata": {},
     "output_type": "execute_result"
    }
   ],
   "source": [
    "data_fra = DataFrame([\n",
    "(20, 0.638),\n",
    "(21, 0.634),\n",
    "(22, 0.659),\n",
    "(23, 0.683),\n",
    "(24, 0.721),\n",
    "(25, 0.664),\n",
    "(26, 0.656),\n",
    "(27, 0.676),\n",
    "(28, 0.678),\n",
    "(29, 0.676),\n",
    "(30, 0.682),\n",
    "(31, 0.673),\n",
    "(32, 0.677),\n",
    "(33, 0.673),\n",
    "(34, 0.692),\n",
    "(35, 0.705)], [:age, :rate])\n",
    "data_fra.age *=12\n",
    "\n",
    "\n",
    "moments_target, Age_vec = let\n",
    "    Age_bds = (24,30) .*12 ## window to match the moments\n",
    "    myselec = Age_bds[1] .<= data_fra.age .<= Age_bds[2]\n",
    "    (data_fra.rate[myselec], data_fra.age[myselec])\n",
    "end\n",
    "\n",
    "\n",
    "function moments_france(ureal; \n",
    "            atol=1e-8, a_range=Age_vec)\n",
    "    Y_vec = [quadgk(x->1-sum(ureal(x)[:]) ,a, a+12, atol=atol)[1]/12 for a in a_range]\n",
    "    return Y_vec\n",
    "end\n",
    "\n",
    "\n",
    "function UIpolicy(jobspell) ## from DARES in 1999, caveat: we only account for continuous employment spell\n",
    "    if jobspell < 4 ## no eligible below 4 months\n",
    "        UImax = 0.\n",
    "    elseif jobspell < 6\n",
    "        UImax = 4\n",
    "    elseif jobspell < 8\n",
    "        UImax = 7\n",
    "    elseif jobspell < 14\n",
    "        UImax = 15\n",
    "    else\n",
    "        UImax = 30\n",
    "    end\n",
    "    return(UImax)\n",
    "end\n",
    "\n",
    "lambda_function(q) = 1/quadgk(x-> UIpolicy(x) * q * exp(-q*x), 0, Inf)[1] \n",
    "#lambda_function(q0,qa,tmax) = 1/quadgk(x-> UIpolicy(x) * (q0+qa*x) * exp(-(q0+qa*x)*x), 0, tmax)[1] "
   ]
  },
  {
   "cell_type": "markdown",
   "metadata": {},
   "source": [
    "# Parameters"
   ]
  },
  {
   "cell_type": "code",
   "execution_count": 3,
   "metadata": {},
   "outputs": [
    {
     "data": {
      "text/plain": [
       "update_Country1 (generic function with 1 method)"
      ]
     },
     "execution_count": 3,
     "metadata": {},
     "output_type": "execute_result"
    }
   ],
   "source": [
    "C0 = let\n",
    "    ## incomes\n",
    "    b1_obs = 539 # RMI+housing benefits, from BD2011\n",
    "    b0_obs = 206 # housing benefits without RMI, from BD2011\n",
    "    wbar_obs = 1.66 * b1_obs # average wage, 66% increase in relative gains from working for HS dropouts, from BD2011    \n",
    "\n",
    "    Country1(\n",
    "        A = 25. * 12, Amin = 18. *12, Amax = 36. *12, Aret = 65. * 12,\n",
    "        r = 0.0048, # 5 % annual interest rate, time unit = month\n",
    "        α = NaN, m = NaN, q0 = NaN, qa=NaN, λ = NaN, ξ=0.,\n",
    "        uinit = [1.,0.], ## start with 0% employment rate at Amin\n",
    "        b1 = b1_obs / wbar_obs, b0 = b0_obs / wbar_obs, \n",
    "        bUI = 0.68,   # 68% replacement rate from DARES,\n",
    "        B1=NaN, B2=NaN, B1dif=NaN\n",
    "    )    \n",
    "end\n",
    "\n",
    "function update_Country1(;α=C0.α, m=C0.m, q0=C0.q0, qa=C0.qa, ξ=C0.ξ, Aret=C0.Aret)\n",
    "    (B1, B1dif, B2) = Baux(α=α, m=m) \n",
    "    Country1(A=C0.A, Amin=C0.Amin, Amax=C0.Amax, Aret=Aret,\n",
    "                    r=C0.r, q0=q0, qa=qa, m=m, λ=lambda_function(q0), α=α, ξ=ξ,\n",
    "                    bUI=C0.bUI, b0=C0.b0, b1=C0.b1,\n",
    "                    uinit=C0.uinit,\n",
    "                    B1=B1, B1dif=B1dif, B2=B2)\n",
    "end"
   ]
  },
  {
   "cell_type": "code",
   "execution_count": 4,
   "metadata": {},
   "outputs": [
    {
     "name": "stdout",
     "output_type": "stream",
     "text": [
      "C0 is Country1(300.0, 216.0, 432.0, 780.0, 0.0048, NaN, NaN, NaN, NaN, NaN, 0.0, [1.0, 0.0], 0.68, 0.6024096385542168, 0.23023448152535933, NaN, NaN, NaN)\n",
      "Startup run in 89.07390093803406 secs.\n"
     ]
    }
   ],
   "source": [
    "println(\"C0 is $C0\")\n",
    "t1 = time()\n",
    "nsec = (t1-t0)\n",
    "println(\"Startup run in $nsec secs.\")"
   ]
  }
 ],
 "metadata": {
  "kernelspec": {
   "display_name": "Julia 1.9.3",
   "language": "julia",
   "name": "julia-1.9"
  },
  "language_info": {
   "file_extension": ".jl",
   "mimetype": "application/julia",
   "name": "julia",
   "version": "1.9.3"
  }
 },
 "nbformat": 4,
 "nbformat_minor": 4
}

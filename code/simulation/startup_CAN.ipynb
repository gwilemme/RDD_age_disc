{
 "cells": [
  {
   "cell_type": "markdown",
   "metadata": {},
   "source": [
    "# Startup for Canada\n",
    "This code is to be included at the beginning of `calib_CAN` and `simu_CAN`."
   ]
  },
  {
   "cell_type": "code",
   "execution_count": 1,
   "metadata": {},
   "outputs": [
    {
     "data": {
      "text/plain": [
       "false"
      ]
     },
     "execution_count": 1,
     "metadata": {},
     "output_type": "execute_result"
    }
   ],
   "source": [
    "t0 = time() ## start chrono\n",
    "dir_module = joinpath(pwd(),\"src\")\n",
    "dir_graph = joinpath(pwd(),\"../../graphs\")\n",
    "    \n",
    "########### main module\n",
    "using NBInclude\n",
    "@nbinclude(joinpath(dir_module,\"AgeDisc.ipynb\"))\n",
    "using Main.AgeDisc\n",
    "\n",
    "########### other packages\n",
    "using QuadGK, DataFrames, PyPlot\n",
    "\n",
    "### Some variables can be predefined before startup.jl : _PRECOMPILE_, _LC_\n",
    "## _PRECOMPILE_ is whether to run a few functions so that they are already compiled\n",
    "if !@isdefined(_PRECOMPILE_)\n",
    "    _PRECOMPILE_ = true\n",
    "end\n",
    "\n",
    "if !@isdefined(_LC_)\n",
    "    _LC_ = false\n",
    "end"
   ]
  },
  {
   "cell_type": "markdown",
   "metadata": {},
   "source": [
    "# Moments"
   ]
  },
  {
   "cell_type": "code",
   "execution_count": 2,
   "metadata": {},
   "outputs": [
    {
     "data": {
      "text/plain": [
       "lambda_function (generic function with 1 method)"
      ]
     },
     "execution_count": 2,
     "metadata": {},
     "output_type": "execute_result"
    }
   ],
   "source": [
    "data_can = DataFrame([\n",
    "(25, 0.677),\n",
    "(26, 0.655),\n",
    "(27, 0.669),\n",
    "(28, 0.663),\n",
    "(29, 0.662),\n",
    "(30, 0.609),\n",
    "(31, 0.597),\n",
    "(32, 0.573),\n",
    "(33, 0.596),\n",
    "(34, 0.556),\n",
    "(35, 0.577),\n",
    "(36, 0.545),\n",
    "(37, 0.535),\n",
    "(38, 0.548),\n",
    "(39, 0.522)], [:age, :rate])\n",
    "data_can.age *=12\n",
    "\n",
    "moments_target, Age_vec = let\n",
    "    Age_bds = (27,35) .*12 ## window to match the moments\n",
    "    myselec = Age_bds[1] .<= data_can.age .<= Age_bds[2]\n",
    "    (data_can.rate[myselec], data_can.age[myselec])\n",
    "end\n",
    "\n",
    "function moments_canada(ureal; \n",
    "        atol=1e-8, a_range=Age_vec)\n",
    "    Y_vec = [quadgk(x->1-sum(ureal(x)[:]) ,a, a+12, atol=atol)[1]/12 for a in a_range]\n",
    "    return Y_vec\n",
    "end\n",
    "\n",
    "\n",
    "function UIpolicy(jobspell) ## from Canadian Statistics in 1986, Lin (1998)\n",
    "    ## caveat: we only account for continuous employment spell\n",
    "    ## jobspell is in months\n",
    "    if jobspell < 20 * 12/52 ## no eligible below 20 weeks\n",
    "        UImax = 0.\n",
    "    else ## eligible\n",
    "        if jobspell < 25 *12/52\n",
    "            UImax = jobspell\n",
    "        else\n",
    "            UImax = 25. *12/52 + min( (jobspell-25*12/52) /2, 13 * 12/52)\n",
    "        end\n",
    "        UImax += min(32, (10-4)/0.5 * 2) * 12/52 ## 24 is regional component with 10% unemployment rate\n",
    "        UImax = min(50*12/52 , UImax)\n",
    "    end\n",
    "    return(UImax)\n",
    "end\n",
    "\n",
    "lambda_function(q) = 1/quadgk(x-> UIpolicy(x) * q * exp(-q*x), 0, Inf)[1] "
   ]
  },
  {
   "cell_type": "markdown",
   "metadata": {},
   "source": [
    "# Parameters"
   ]
  },
  {
   "cell_type": "code",
   "execution_count": 3,
   "metadata": {},
   "outputs": [
    {
     "data": {
      "text/plain": [
       "update_Country1 (generic function with 1 method)"
      ]
     },
     "execution_count": 3,
     "metadata": {},
     "output_type": "execute_result"
    }
   ],
   "source": [
    "if !_LC_\n",
    "    C0 = Country1(\n",
    "            A = 30. * 12, Amin = 25. *12, Amax = 40. *12,\n",
    "            r = 0.0048, # 5 % annual interest rate, time unit = month\n",
    "            α = NaN, m = NaN, q = NaN, λ = NaN,\n",
    "            uinit = [0.32,0.], ## start with 68% employment rate, 32% without UI, 0% with UI\n",
    "            b1 = 507 * 12/13924, # 507 and 13924 (average earnings) in 1989 (current dollars), from LM2008\n",
    "            b0 = 185 * 12/13924, # 185 from LM2008\n",
    "            bUI = 0.6, ## from Canadian statistics\n",
    "            B1=NaN, B2=NaN, B1dif=NaN\n",
    "    )    \n",
    "\n",
    "    function update_Country1(;α=C0.α, m=C0.m, q=C0.q)\n",
    "        (B1, B1dif, B2) = Baux(α=α, m=m)\n",
    "        Country1(A=C0.A, Amin=C0.Amin, Amax=C0.Amax,\n",
    "                        r=C0.r, q=q, m=m, λ=lambda_function(q), α=α,\n",
    "                        bUI=C0.bUI, b0=C0.b0, b1=C0.b1,\n",
    "                        uinit=C0.uinit,\n",
    "                        B1=B1, B1dif=B1dif, B2=B2)\n",
    "    end\n",
    "    \n",
    "    \n",
    "else\n",
    "    C0 = Country1A(\n",
    "            A = 30. * 12, Amin = 18. *12, Amax = 40. *12, Aret = 65. * 12, ## no mandatory retirement age\n",
    "            r = 0.0048, # 5 % annual interest rate, time unit = month\n",
    "            α = NaN, m = NaN, q0 = NaN, qa=NaN, λ = NaN, ξ=0.,\n",
    "            uinit = [1.,0.], #[0.32,0.], ## start with 0% employment rate at Amin\n",
    "            b1 = 507 * 12/13924, # 507 and 13924 (average earnings) in 1989 (current dollars), from LM2008\n",
    "            b0 = 185 * 12/13924, # 185 from LM2008\n",
    "            bUI = 0.6, ## from Canadian statistics\n",
    "            B1=NaN, B2=NaN, B1dif=NaN\n",
    "    )    \n",
    "\n",
    "    function update_Country1(;α=C0.α, m=C0.m, q0=C0.q0, qa=C0.qa, ξ=C0.ξ, Aret=C0.Aret)\n",
    "        (B1, B1dif, B2) = Baux(α=α, m=m)\n",
    "        Country1A(A=C0.A, Amin=C0.Amin, Amax=C0.Amax, Aret=Aret,\n",
    "                        r=C0.r, q0=q0, qa=qa, m=m, λ=lambda_function(q0), α=α, ξ=ξ,\n",
    "                        bUI=C0.bUI, b0=C0.b0, b1=C0.b1,\n",
    "                        uinit=C0.uinit,\n",
    "                        B1=B1, B1dif=B1dif, B2=B2)\n",
    "    end\n",
    "end"
   ]
  },
  {
   "cell_type": "code",
   "execution_count": 4,
   "metadata": {},
   "outputs": [
    {
     "name": "stdout",
     "output_type": "stream",
     "text": [
      "C0 is Country1(360.0, 300.0, 480.0, 0.0048, NaN, NaN, NaN, NaN, [0.32, 0.0], 0.6, 0.4369434070669348, 0.15943694340706693, NaN, NaN, NaN)\n",
      "Startup run in 22.375999927520752 secs.\n"
     ]
    }
   ],
   "source": [
    "println(\"C0 is $C0\")\n",
    "t1 = time()\n",
    "nsec = (t1-t0)\n",
    "println(\"Startup run in $nsec secs.\")"
   ]
  }
 ],
 "metadata": {
  "kernelspec": {
   "display_name": "Julia 1.10.0",
   "language": "julia",
   "name": "julia-1.10"
  },
  "language_info": {
   "file_extension": ".jl",
   "mimetype": "application/julia",
   "name": "julia",
   "version": "1.10.0"
  }
 },
 "nbformat": 4,
 "nbformat_minor": 4
}

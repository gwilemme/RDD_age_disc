{
 "cells": [
  {
   "cell_type": "code",
   "execution_count": 1,
   "metadata": {},
   "outputs": [
    {
     "name": "stdout",
     "output_type": "stream",
     "text": [
      "C0 is Country1(360.0, 216.0, 480.0, 780.0, 0.0048, NaN, NaN, NaN, NaN, NaN, 0.0, [1.0, 0.0], 0.6, 0.4369434070669348, 0.15943694340706693, NaN, NaN, NaN)\n",
      "Startup run in 33.13694095611572 secs.\n"
     ]
    }
   ],
   "source": [
    "using NBInclude, NLopt\n",
    "@nbinclude(\"startup_CAN.ipynb\")"
   ]
  },
  {
   "cell_type": "markdown",
   "metadata": {},
   "source": [
    "# 1) Find the parameters of the benchmark model"
   ]
  },
  {
   "cell_type": "markdown",
   "metadata": {},
   "source": [
    "We calibrate our model to determine the values of $\\alpha$, $m$ and $q$ (and $\\lambda$)."
   ]
  },
  {
   "cell_type": "code",
   "execution_count": 2,
   "metadata": {},
   "outputs": [
    {
     "name": "stdout",
     "output_type": "stream",
     "text": [
      "Param found with convergence SUCCESS, the value of the objective is 0.0010743751421727638\n",
      "Parameters: \n",
      " - α= 0.6890330404333282\n",
      " - m= 0.15619724389788173\n",
      " - q0= 0.05098028312784511\n",
      " - qa= 5.5144846333084566e-5\n",
      "  8.821927 seconds (22.87 M allocations: 1.762 GiB, 4.14% gc time, 83.36% compilation time: <1% of which was recompilation)\n"
     ]
    },
    {
     "data": {
      "text/plain": [
       "4-element Vector{Float64}:\n",
       " 0.6890330404333282\n",
       " 0.15619724389788173\n",
       " 0.05098028312784511\n",
       " 5.5144846333084566e-5"
      ]
     },
     "execution_count": 2,
     "metadata": {},
     "output_type": "execute_result"
    }
   ],
   "source": [
    "function distance(m1,m2)\n",
    "    out = 0\n",
    "    for i in 1:length(m1)\n",
    "        out += (m1[i] - m2[i]) ^2\n",
    "    end\n",
    "    return(out)\n",
    "end\n",
    "\n",
    "\n",
    "## compute the objective to minimise\n",
    "function objective_can(α,m,q0,qa)\n",
    "    newC = update_Country1(α=α, m=m, q0=q0, qa=qa)\n",
    "    \n",
    "    ## simulate\n",
    "    newV = find_Surplus(newC, reltol=1e-12, findΨ=false)\n",
    "    unemp = find_Unemp(newV, newC, find_with=false, find_without=false) \n",
    "    moments_emp = moments_canada(unemp.real, atol=1e-8)\n",
    "    \n",
    "  #  IJulia.clear_output(true)\n",
    " #   println(\"Current parameters: $α, $m, $q0, $qa\")\n",
    "  #  println(\"Simulated moments: $moments_emp\")\n",
    "    \n",
    "    distance(moments_emp, moments_target) \n",
    "end\n",
    "\n",
    "## distance minimisation with NLopt\n",
    "@time parmin = let\n",
    "    opt = Opt(:LN_BOBYQA, 4)\n",
    "    lower_bounds!(opt, [0.1 , 0., 0.001, -0.1])\n",
    "    upper_bounds!(opt, [5. , 1., 0.2, 0.1])\n",
    "    xtol_rel!(opt,1e-12)\n",
    "    min_objective!(opt, (v,g)-> objective_can(v[1],v[2],v[3],v[4]))\n",
    "    \n",
    "    init =  [0.5, 0.2, 0.02, 0.] \n",
    "    \n",
    "    (minf,minx,ret) = optimize(opt, init) \n",
    "    println(\"Param found with convergence $ret, the value of the objective is $minf\")\n",
    "    println(\"Parameters: \")\n",
    "    println(\" - α= \", minx[1])\n",
    "    println(\" - m= \", minx[2])\n",
    "    println(\" - q0= \", minx[3])\n",
    "    println(\" - qa= \", minx[4])\n",
    "    minx\n",
    "end"
   ]
  },
  {
   "cell_type": "markdown",
   "metadata": {},
   "source": [
    "# 2) Sensitivity: find the parameters with alternative values of $q_0$\n",
    "Find the parameters for $q_0=0.005, 0.01, 0.025, 0.05, 0.1$."
   ]
  },
  {
   "cell_type": "code",
   "execution_count": 3,
   "metadata": {},
   "outputs": [
    {
     "name": "stdout",
     "output_type": "stream",
     "text": [
      "Param found with convergence SUCCESS, the value of the objective is 0.0012304396569548094\n",
      "Parameters: \n",
      " - α= 0.1876337824599228\n",
      " - m= 0.027407404402780222\n",
      " - qa= -1.4743789274070752e-5\n",
      "  0.860377 seconds (6.68 M allocations: 569.862 MiB, 11.55% gc time, 14.12% compilation time)\n",
      "Param found with convergence SUCCESS, the value of the objective is 0.0011502573848390157\n",
      "Parameters: \n",
      " - α= 0.516900451570764\n",
      " - m= 0.07358092016935147\n",
      " - qa= 5.883797565856158e-6\n",
      "  0.178860 seconds (1.54 M allocations: 132.310 MiB, 17.18% gc time)\n",
      "Param found with convergence XTOL_REACHED, the value of the objective is 0.00110623094440133\n",
      "Parameters: \n",
      " - α= 0.8546295970511096\n",
      " - m= 0.15682740190490604\n",
      " - qa= 7.65632286368146e-5\n",
      "  0.208493 seconds (2.02 M allocations: 177.891 MiB, 11.32% gc time)\n",
      "Param found with convergence SUCCESS, the value of the objective is 0.0010308885982217375\n",
      "Parameters: \n",
      " - α= 0.6788267018190596\n",
      " - m= 0.2322796134025758\n",
      " - qa= 9.546386130991365e-5\n",
      "  0.418500 seconds (4.58 M allocations: 405.876 MiB, 9.47% gc time)\n",
      "Param found with convergence SUCCESS, the value of the objective is 0.0010010743285939019\n",
      "Parameters: \n",
      " - α= 0.6410109906128647\n",
      " - m= 0.3110284074904904\n",
      " - qa= 0.00013427262912660883\n",
      "  0.286052 seconds (3.19 M allocations: 285.366 MiB, 9.78% gc time)\n",
      "[0.0012304396569548094, 0.0011502573848390157, 0.00110623094440133, 0.0010308885982217375, 0.0010010743285939019]\n",
      "[0.01 0.025 0.05 0.075 0.1; 0.1876337824599228 0.516900451570764 0.8546295970511096 0.6788267018190596 0.6410109906128647; 0.027407404402780222 0.07358092016935147 0.15682740190490604 0.2322796134025758 0.3110284074904904; -1.4743789274070752e-5 5.883797565856158e-6 7.65632286368146e-5 9.546386130991365e-5 0.00013427262912660883]"
     ]
    },
    {
     "data": {
      "text/plain": [
       "4×5 Matrix{Float64}:\n",
       "  0.01        0.025      0.05        0.075       0.1\n",
       "  0.187634    0.5169     0.85463     0.678827    0.641011\n",
       "  0.0274074   0.0735809  0.156827    0.23228     0.311028\n",
       " -1.47438e-5  5.8838e-6  7.65632e-5  9.54639e-5  0.000134273"
      ]
     },
     "execution_count": 3,
     "metadata": {},
     "output_type": "execute_result"
    }
   ],
   "source": [
    "function find_canada(q0)\n",
    "    opt = Opt(:LN_BOBYQA, 3)\n",
    "    lower_bounds!(opt, [1e-5 , 0., -0.1])\n",
    "    upper_bounds!(opt, [20. , 10., 0.1])\n",
    "    xtol_rel!(opt,1e-12)\n",
    "    min_objective!(opt, (v,g)-> objective_can(v[1],v[2],q0,v[3]))\n",
    "    \n",
    "    init =  [0.5, 0.2, 0. ] \n",
    "    \n",
    "    (minf,minx,ret) = optimize(opt, init) \n",
    "    println(\"Param found with convergence $ret, the value of the objective is $minf\")\n",
    "    println(\"Parameters: \")\n",
    "    println(\" - α= \", minx[1])\n",
    "    println(\" - m= \", minx[2])\n",
    "    println(\" - qa= \", minx[3])\n",
    "    return(minx, minf)\n",
    "end\n",
    "\n",
    "q0_vec = [0.01 0.025 0.05 0.075 0.1]\n",
    "#[0.005 0.01 0.025 0.05 0.1]\n",
    "amqa_vec = zeros(3,5)\n",
    "objectivevalue = zeros(5)\n",
    "for (i,q0) in enumerate(q0_vec)\n",
    "    @time amqa_vec[:,i], objectivevalue[i] =  find_canada(q0)\n",
    "end\n",
    "\n",
    "println(objectivevalue)\n",
    "out = vcat(q0_vec,amqa_vec)\n",
    "show(out)\n",
    "out"
   ]
  },
  {
   "cell_type": "markdown",
   "metadata": {},
   "source": [
    "# 3) Sensitivity: find the parameters with alternative values of $\\xi$"
   ]
  },
  {
   "cell_type": "code",
   "execution_count": 4,
   "metadata": {},
   "outputs": [
    {
     "name": "stdout",
     "output_type": "stream",
     "text": [
      "Param found with convergence SUCCESS, the value of the objective is 0.0010743751421727638\n",
      "Parameters: \n",
      " - α= 0.6890330404333282\n",
      " - m= 0.15619724389788173\n",
      " - q0= 0.05098028312784511\n",
      " - qa= 5.5144846333084566e-5\n",
      "  2.266643 seconds (16.80 M allocations: 1.412 GiB, 8.98% gc time, 14.10% compilation time)\n",
      "Param found with convergence SUCCESS, the value of the objective is 0.0009743082882012677\n",
      "Parameters: \n",
      " - α= 0.6389876521786183\n",
      " - m= 0.1456232259616489\n",
      " - q0= 0.048345863559521404\n",
      " - qa= 3.898079680410013e-5\n",
      "  3.392385 seconds (30.36 M allocations: 2.570 GiB, 8.90% gc time, 1.16% compilation time)\n",
      "Param found with convergence SUCCESS, the value of the objective is 0.0009245648809944958\n",
      "Parameters: \n",
      " - α= 0.6355722694738223\n",
      " - m= 0.16087729229778894\n",
      " - q0= 0.05356494877889571\n",
      " - qa= 4.153795428287178e-5\n",
      "  2.247098 seconds (21.23 M allocations: 1.805 GiB, 8.64% gc time)\n",
      "Param found with convergence SUCCESS, the value of the objective is 0.0008902679137387339\n",
      "Parameters: \n",
      " - α= 0.6380654189314966\n",
      " - m= 0.22020578984597095\n",
      " - q0= 0.0725978786514089\n",
      " - qa= 6.922404673325186e-5\n",
      "  3.167587 seconds (30.12 M allocations: 2.565 GiB, 8.68% gc time)\n",
      "Param found with convergence SUCCESS, the value of the objective is 0.0008942249980470349\n",
      "Parameters: \n",
      " - α= 0.6751656923899817\n",
      " - m= 0.23916202229635858\n",
      " - q0= 0.0781959153634407\n",
      " - qa= 8.310720146806984e-5\n",
      "  2.178265 seconds (20.61 M allocations: 1.746 GiB, 8.71% gc time)\n",
      "[0.0010743751421727638, 0.0009743082882012677, 0.0009245648809944958, 0.0008902679137387339, 0.0008942249980470349]\n",
      "[0.0 0.25 0.5 0.75 1.0; 0.6890330404333282 0.6389876521786183 0.6355722694738223 0.6380654189314966 0.6751656923899817; 0.15619724389788173 0.1456232259616489 0.16087729229778894 0.22020578984597095 0.23916202229635858; 0.05098028312784511 0.048345863559521404 0.05356494877889571 0.0725978786514089 0.0781959153634407; 5.5144846333084566e-5 3.898079680410013e-5 4.153795428287178e-5 6.922404673325186e-5 8.310720146806984e-5]"
     ]
    },
    {
     "data": {
      "text/plain": [
       "5×5 Matrix{Float64}:\n",
       " 0.0         0.25        0.5        0.75       1.0\n",
       " 0.689033    0.638988    0.635572   0.638065   0.675166\n",
       " 0.156197    0.145623    0.160877   0.220206   0.239162\n",
       " 0.0509803   0.0483459   0.0535649  0.0725979  0.0781959\n",
       " 5.51448e-5  3.89808e-5  4.1538e-5  6.9224e-5  8.31072e-5"
      ]
     },
     "execution_count": 4,
     "metadata": {},
     "output_type": "execute_result"
    }
   ],
   "source": [
    "function objective_can(α,m,q0,qa,ξ)\n",
    "    newC = update_Country1(α=α, m=m, q0=q0, qa=qa, ξ=ξ)\n",
    "    \n",
    "    ## simulate\n",
    "    newV = find_Surplus(newC, reltol=1e-12)\n",
    "    unemp = find_Unemp(newV, newC, find_with=false, find_without=false) \n",
    "    moments_emp = moments_canada(unemp.real, atol=1e-8)\n",
    "    distance(moments_emp, moments_target) \n",
    "end\n",
    "\n",
    "function find_canada(ξ)\n",
    "    opt = Opt(:LN_BOBYQA, 4)\n",
    "    lower_bounds!(opt, [0.1 , 0., 0.001, -0.1])\n",
    "    upper_bounds!(opt, [5. , 1., 0.2, 0.1])\n",
    "    xtol_rel!(opt,1e-12)\n",
    "    min_objective!(opt, (v,g)-> objective_can(v[1],v[2],v[3],v[4],ξ))\n",
    "    \n",
    "    init =  [0.5, 0.2, 0.02, 0.] \n",
    "    \n",
    "    (minf,minx,ret) = optimize(opt, init) \n",
    "    println(\"Param found with convergence $ret, the value of the objective is $minf\")\n",
    "    println(\"Parameters: \")\n",
    "    println(\" - α= \", minx[1])\n",
    "    println(\" - m= \", minx[2])\n",
    "    println(\" - q0= \", minx[3])\n",
    "    println(\" - qa= \", minx[4])\n",
    "    return (minx, minf)\n",
    "end\n",
    "\n",
    "ξ_vec = [0 0.25 0.5 0.75 1]\n",
    "amq_vec = zeros(4,5)\n",
    "objectivevalue = zeros(5)\n",
    "for (i,ξ) in enumerate(ξ_vec)\n",
    "    @time amq_vec[:,i], objectivevalue[i] =  find_canada(ξ)\n",
    "end\n",
    "\n",
    "println(objectivevalue)\n",
    "out = vcat(ξ_vec,amq_vec)\n",
    "show(out)\n",
    "out"
   ]
  }
 ],
 "metadata": {
  "@webio": {
   "lastCommId": null,
   "lastKernelId": null
  },
  "kernelspec": {
   "display_name": "Julia 1.9.3",
   "language": "julia",
   "name": "julia-1.9"
  },
  "language_info": {
   "file_extension": ".jl",
   "mimetype": "application/julia",
   "name": "julia",
   "version": "1.9.3"
  }
 },
 "nbformat": 4,
 "nbformat_minor": 4
}

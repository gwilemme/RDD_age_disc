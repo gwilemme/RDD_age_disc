{
 "cells": [
  {
   "cell_type": "code",
   "execution_count": 1,
   "metadata": {},
   "outputs": [],
   "source": [
    "## call the main routines\n",
    "using NBInclude\n",
    "@nbinclude(\"core_fun.ipynb\");"
   ]
  },
  {
   "cell_type": "code",
   "execution_count": 2,
   "metadata": {},
   "outputs": [
    {
     "data": {
      "text/plain": [
       "Country(1, 360.0, 300.0, 480.0, 0.0048, 1.0, 0.5400915287867508, 0.05045705920101544, 0.14905684129413932, 0.10985501075375209, 0.10985501075375209, [0.32, 0.0], 0.6, 0.4369434070669348, 0.15943694340706693, 1.0, 0.0006925527392941526, 0.013248908604437622)"
      ]
     },
     "execution_count": 2,
     "metadata": {},
     "output_type": "execute_result"
    }
   ],
   "source": [
    "###############################################################\n",
    "#### Parameters\n",
    "###############################################################\n",
    "lambda_function(q) = 1/quadgk(x-> UIpolicy_quebec(x) * q * exp(-q*x), 0, Inf)[1] \n",
    "\n",
    "quebec = let \n",
    "    \n",
    "    reform = 1\n",
    "    A = 30.  *12 \n",
    "    Amin = 25. *12\n",
    "    Amax = 40. *12\n",
    "    \n",
    "    r = 0.0048 # 5 % annual interest rate, time unit = month\n",
    "    c0 = 1. # scale parameter of the cost function, normalized to 1\n",
    "\n",
    "    ### estimated\n",
    "    alpha, m, q = 0.5400915287867508,  0.14905684129413932,   0.05045705920101544\n",
    "    lambdamin = lambda_function(q)\n",
    "    lambdamax = lambda_function(q)  \n",
    "    \n",
    "    uinit = [0.32,0.] ## start with 68% employment rate, 32% without UI\n",
    "    \n",
    "    wbar = 1\n",
    "    b0max = 507 * 12/13924 # 507 and 13924 (average earnings) in 1989 (current dollars), from LM2008\n",
    "    b0min = 185 * 12/13924 # 185 from LM2008\n",
    "    bUI = 0.6 ## from Canadian statistics\n",
    "    \n",
    "    Country(reform,A,Amin,Amax,r,c0,alpha,q,m,lambdamin,lambdamax,uinit,bUI,b0max,b0min,wbar)\n",
    "end"
   ]
  },
  {
   "cell_type": "markdown",
   "metadata": {},
   "source": [
    "# 1) Finding the parameters\n",
    "We take as moments the employment rates from age 27 to 32."
   ]
  },
  {
   "cell_type": "code",
   "execution_count": 3,
   "metadata": {},
   "outputs": [
    {
     "data": {
      "image/png": "[encoded data removed]",
      "text/plain": [
       "Figure(PyObject <Figure size 640x480 with 1 Axes>)"
      ]
     },
     "metadata": {},
     "output_type": "display_data"
    },
    {
     "data": {
      "text/plain": [
       "distance (generic function with 1 method)"
      ]
     },
     "execution_count": 3,
     "metadata": {},
     "output_type": "execute_result"
    }
   ],
   "source": [
    "function moments_quebec(unemp, simu::Simu,C::Country)\n",
    "    Y27 = quadgk(x->1-sum(unemp(x)[:]) ,27*12,27*12+12)[1]/12\n",
    "    Y28 = quadgk(x->1-sum(unemp(x)[:]) ,28*12,28*12+12)[1]/12\n",
    "    Y29 = quadgk(x->1-sum(unemp(x)[:]) ,29*12,29*12+12)[1]/12\n",
    "    Y30 = quadgk(x->1-sum(unemp(x)[:]) ,30*12,30*12+12)[1]/12\n",
    "    Y31 = quadgk(x->1-sum(unemp(x)[:]) ,31*12,31*12+12)[1]/12\n",
    "    Y32 = quadgk(x->1-sum(unemp(x)[:]) ,32*12,32*12+12)[1]/12\n",
    "    return( [Y27, Y28, Y29, Y30, Y31, Y32])\n",
    "end\n",
    "\n",
    "moments_target = let\n",
    "    mom0 = 0.19\n",
    "    Y27,Y28, Y29, Y30, Y31, Y32 = 0.664, 0.662, 0.660, 0.611, 0.598, 0.576\n",
    "    scatter(27:32,[Y27,Y28, Y29, Y30, Y31, Y32])\n",
    "    [Y27, Y28, Y29, Y30, Y31, Y32]\n",
    "end\n",
    "\n",
    "function distance(m1,m2)\n",
    "    out = 0\n",
    "    for i in 1:length(m1)\n",
    "        out += (m1[i] - m2[i]) ^2\n",
    "    end\n",
    "    return(out)\n",
    "end"
   ]
  },
  {
   "cell_type": "code",
   "execution_count": 4,
   "metadata": {},
   "outputs": [
    {
     "name": "stdout",
     "output_type": "stream",
     "text": [
      "0.4395672016715562 0.29203881755639116\n",
      "[0.666201, 0.666051, 0.654074, 0.600569, 0.592045, 0.59197]\n",
      "Param found with convergence ROUNDOFF_LIMITED, the value of the objective is 0.00045570315938251853\n",
      "0.4395672016715562  0.29203881755639116\n"
     ]
    },
    {
     "data": {
      "text/plain": [
       "2×5 Array{Float64,2}:\n",
       " 0.132954   0.297961   0.526394   0.540929  0.439567\n",
       " 0.0163111  0.0292509  0.0735611  0.147713  0.292039"
      ]
     },
     "execution_count": 4,
     "metadata": {},
     "output_type": "execute_result"
    }
   ],
   "source": [
    "function objective_qb(alpha,m,q,C::Country)\n",
    "    ## modify C\n",
    "    newC = Country(C.reform,C.A,C.Amin,C.Amax,C.r,C.c0,\n",
    "        alpha, q, m,lambda_function(q),lambda_function(q),\n",
    "        C.uinit,C.bUI,C.b0max,C.b0min,C.wbar)\n",
    "    \n",
    "    ## simulate\n",
    "    simu = find_simu(newC,reltol=1e-8)\n",
    "    unemp = find_unemp(simu, newC, unitSS = false) \n",
    "    v1 = moments_quebec(unemp,simu,newC)\n",
    "    \n",
    "    IJulia.clear_output(true)\n",
    "    println(alpha,\" \",m)\n",
    "    println(v1)\n",
    "    \n",
    "    distance(v1, moments_target) \n",
    "end\n",
    "\n",
    "function find_quebec(q,C::Country)\n",
    "    opt = Opt(:LN_BOBYQA, 2)\n",
    "    lower_bounds!(opt, [0.1 , 0.])\n",
    "    upper_bounds!(opt, [5. , 1.])\n",
    "    #xtol_rel!(opt,1e-12)\n",
    "    stopval!(opt,1e-15)\n",
    "    min_objective!(opt, (v,g)-> objective_qb(v[1],v[2],q,C))\n",
    "    \n",
    "    init =  [0.5, 0.2 ] \n",
    "    \n",
    "    (minf,minx,ret) = optimize(opt, init) \n",
    "    println(\"Param found with convergence \", ret, \", the value of the objective is \",minf)\n",
    "    println(minx[1], \"  \",minx[2])\n",
    "    return(minx)\n",
    "end\n",
    "\n",
    "q_vec = [0.005, 0.01, 0.025, 0.05, 0.1]\n",
    "am_vec = zeros(2,5)\n",
    "for (i,q) in enumerate(q_vec)\n",
    "    am_vec[:,i] =  find_quebec(q,quebec)\n",
    "end\n",
    "am_vec"
   ]
  },
  {
   "cell_type": "markdown",
   "metadata": {},
   "source": [
    "# 2)Moments"
   ]
  },
  {
   "cell_type": "code",
   "execution_count": 5,
   "metadata": {},
   "outputs": [
    {
     "data": {
      "text/plain": [
       "9×5 Array{Float64,2}:\n",
       " 67.4775      67.5021     67.3829     67.009      66.6201  \n",
       " 66.0925      66.2165     66.4205     66.6533     66.605   \n",
       " 64.1698      64.2324     64.3869     64.8292     65.4074  \n",
       " 61.9147      61.7397     61.2609     60.6812     60.0569  \n",
       " 59.7782      59.6196     59.3283     59.1228     59.2045  \n",
       " 57.8445      57.9786     58.4082     58.8232     59.197   \n",
       "  0.0887277    0.0908376   0.097472    0.109619    0.138626\n",
       "  0.00898485   0.0205393   0.0568305   0.125195    0.293905\n",
       "  0.00327801   0.0111732   0.0354114   0.0780627   0.173696"
      ]
     },
     "execution_count": 5,
     "metadata": {},
     "output_type": "execute_result"
    }
   ],
   "source": [
    "lam_vec = zeros(length(q_vec))\n",
    "jfr0bef_vec = zeros(length(q_vec))\n",
    "jfr0aft_vec = zeros(length(q_vec))\n",
    "mom_vec = zeros(length(moments_target),length(q_vec))\n",
    "\n",
    "for (i,q) in enumerate(q_vec)\n",
    "    alpha, m, q = am_vec[1,i], am_vec[2,i], q_vec[i]\n",
    "    lambda = lambda_function(q)\n",
    "    lam_vec[i] = lambda\n",
    "    \n",
    "    newC = Country(quebec.reform,quebec.A,quebec.Amin,quebec.Amax,quebec.r,quebec.c0,\n",
    "        alpha, q, m,lambda,lambda,\n",
    "        quebec.uinit,quebec.bUI,quebec.b0max,quebec.b0min,quebec.wbar)\n",
    "    simu_qb = find_simu(newC,reltol=1e-5)\n",
    "    jfr0bef_vec[i] = JFrate(simu_qb.Xbar1(27*12),newC)\n",
    "    jfr0aft_vec[i] = JFrate(simu_qb.Xbar1(newC.A),newC)\n",
    "    \n",
    "    unemp_qb = find_unemp(simu_qb, newC, unitSS = false) \n",
    "    mom_vec[:,i] = moments_quebec(unemp_qb,simu_qb,newC)\n",
    "end\n",
    "\n",
    "mid_vec = vcat(mom_vec .*100 ,lam_vec',jfr0bef_vec',jfr0aft_vec')"
   ]
  },
  {
   "cell_type": "markdown",
   "metadata": {},
   "source": [
    "# 3) Simulated coefficients"
   ]
  },
  {
   "cell_type": "code",
   "execution_count": 6,
   "metadata": {},
   "outputs": [
    {
     "data": {
      "text/plain": [
       "5-element Array{Float64,1}:\n",
       " -0.1947103372216008 \n",
       " -0.13567970885223823\n",
       " -0.09709254327884276\n",
       " -0.08195006744502464\n",
       " -0.0742185866599977 "
      ]
     },
     "execution_count": 6,
     "metadata": {},
     "output_type": "execute_result"
    }
   ],
   "source": [
    "coef_vec = zeros(length(q_vec))\n",
    "late_vec = zeros(length(q_vec))\n",
    "\n",
    "age_grid = 25:39\n",
    "for (i,q) in enumerate(q_vec)\n",
    "    alpha, m, q = am_vec[1,i], am_vec[2,i], q_vec[i]\n",
    "    lambda = lambda_function(q)\n",
    "    newC = Country(quebec.reform,quebec.A,quebec.Amin,quebec.Amax,quebec.r,quebec.c0,\n",
    "        alpha, q, m,lambda,lambda,\n",
    "        quebec.uinit,quebec.bUI,quebec.b0max,quebec.b0min,quebec.wbar)\n",
    "    simu_qb = find_simu(newC,reltol=1e-5)\n",
    "    unemp_qb = find_unemp(simu_qb, newC, unitSS = false) \n",
    "\n",
    "\n",
    "\n",
    "    Y = [quadgk(x->1-sum(unemp_qb(x)[:]) ,m,m+12)[1]/12 for m in 12*age_grid] \n",
    "\n",
    "    # linear spline\n",
    "    TREAT = [a>=quebec.A for a in age_grid*12]\n",
    "    consta = ones(size(age_grid))\n",
    "    age1 = collect(age_grid*12)\n",
    "    age2 = age1 .^2\n",
    "    age3 = age1 .^3\n",
    "    age1_spl = (age1 .- quebec.A) .* TREAT \n",
    "    X = hcat(TREAT, consta, age1, age1_spl)\n",
    "    beta = inv(X' * X) * (X' * Y)\n",
    "    coef_vec[i] = beta[1]\n",
    "\n",
    "    unemp_qb_counter0 = find_unemp_counter0(simu_qb, newC, unitSS = false) \n",
    "    unemp_qb_counter1 = find_unemp_counter1(simu_qb, newC, unitSS = false) \n",
    "\n",
    "    emp_after = 1-sum(unemp_qb_counter1(newC.A)[:])\n",
    "    emp_before = 1-sum(unemp_qb_counter0(newC.A)[:])\n",
    "    late_vec[i] = emp_after-emp_before\n",
    "end\n",
    "\n",
    "late_vec"
   ]
  },
  {
   "cell_type": "markdown",
   "metadata": {
    "collapsed": true
   },
   "source": [
    "# The final table is"
   ]
  },
  {
   "cell_type": "code",
   "execution_count": 7,
   "metadata": {},
   "outputs": [
    {
     "data": {
      "text/plain": [
       "15×5 Array{Float64,2}:\n",
       "  0.005        0.01        0.025       0.05        0.1      \n",
       "  0.132954     0.297961    0.526394    0.540929    0.439567 \n",
       "  0.0163111    0.0292509   0.0735611   0.147713    0.292039 \n",
       " 67.4775      67.5021     67.3829     67.009      66.6201   \n",
       " 66.0925      66.2165     66.4205     66.6533     66.605    \n",
       " 64.1698      64.2324     64.3869     64.8292     65.4074   \n",
       " 61.9147      61.7397     61.2609     60.6812     60.0569   \n",
       " 59.7782      59.6196     59.3283     59.1228     59.2045   \n",
       " 57.8445      57.9786     58.4082     58.8232     59.197    \n",
       "  0.0887277    0.0908376   0.097472    0.109619    0.138626 \n",
       "  0.00898485   0.0205393   0.0568305   0.125195    0.293905 \n",
       "  0.00327801   0.0111732   0.0354114   0.0780627   0.173696 \n",
       " -0.049       -0.049      -0.049      -0.049      -0.049    \n",
       " -0.0276738   -0.0369962  -0.0441563  -0.048435   -0.0526443\n",
       " -0.19471     -0.13568    -0.0970925  -0.0819501  -0.0742186"
      ]
     },
     "execution_count": 7,
     "metadata": {},
     "output_type": "execute_result"
    }
   ],
   "source": [
    "vcat(q_vec',am_vec,mid_vec,-0.049 .* ones(length(q_vec))',coef_vec',late_vec')"
   ]
  }
 ],
 "metadata": {
  "@webio": {
   "lastCommId": null,
   "lastKernelId": null
  },
  "kernelspec": {
   "display_name": "Julia 1.1.0",
   "language": "julia",
   "name": "julia-1.1"
  },
  "language_info": {
   "file_extension": ".jl",
   "mimetype": "application/julia",
   "name": "julia",
   "version": "1.1.0"
  }
 },
 "nbformat": 4,
 "nbformat_minor": 2
}

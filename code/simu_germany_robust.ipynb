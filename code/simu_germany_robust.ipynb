{
 "cells": [
  {
   "cell_type": "code",
   "execution_count": 1,
   "metadata": {},
   "outputs": [],
   "source": [
    "## call the main routines\n",
    "using NBInclude\n",
    "@nbinclude(\"core_fun.ipynb\");"
   ]
  },
  {
   "cell_type": "markdown",
   "metadata": {},
   "source": [
    "We fix the parameters for the case of Germany in an object of type Country. The calibrated values for $\\alpha$, $m$, $q$, $\\lambda_{min}$ and $\\lambda_{max}$ are obtained latter on."
   ]
  },
  {
   "cell_type": "code",
   "execution_count": 2,
   "metadata": {},
   "outputs": [],
   "source": [
    "germany = let \n",
    "    \n",
    "    reform = 2\n",
    "    A = 42. * 12\n",
    "    Amin = 38. * 12\n",
    "    Amax = 44. * 12\n",
    "    \n",
    "    r = 0.0048 # 5 % annual interest rate, time unit = month\n",
    "    c0 = 1. # scale parameter of the cost function, normalized to 1\n",
    "\n",
    "    ### to be updated after the calibration\n",
    "    alpha, m, q = 0.7 , 0.1, 0.03\n",
    "    lambdamin = 0.07\n",
    "    lambdamax = lambdamin + 0.03\n",
    "    \n",
    "    uinit = [0.,0.] ## useless parameters\n",
    "    \n",
    "    wbar = 1.\n",
    "    bUI = 0.68 * wbar  # replacement rate for individual with children 68 (without children is 63) , SVB2012a\n",
    "    b0max = 0.35 * wbar # 35% social assistance for married individuals, SVB2012a\n",
    "    b0min = b0max\n",
    "    \n",
    "    Country(reform,A,Amin,Amax,r,c0,alpha,q,m,lambdamin,lambdamax,uinit,bUI,b0max,b0min,wbar)\n",
    "end\n",
    ";"
   ]
  },
  {
   "cell_type": "code",
   "execution_count": 3,
   "metadata": {},
   "outputs": [
    {
     "name": "stdout",
     "output_type": "stream",
     "text": [
      "  2.618157 seconds (5.86 M allocations: 295.838 MiB, 5.97% gc time)\n",
      "  0.402507 seconds (1.53 M allocations: 49.306 MiB, 5.65% gc time)\n",
      "  0.571530 seconds (648.24 k allocations: 31.982 MiB, 1.76% gc time)\n",
      "  0.482942 seconds (979.49 k allocations: 40.128 MiB, 4.63% gc time)\n",
      " 11.578129 seconds (119.55 M allocations: 2.044 GiB, 4.77% gc time)\n",
      "  7.725521 seconds (85.43 M allocations: 1.626 GiB, 5.77% gc time)\n"
     ]
    },
    {
     "data": {
      "text/plain": [
       "29.12427721560897"
      ]
     },
     "execution_count": 3,
     "metadata": {},
     "output_type": "execute_result"
    }
   ],
   "source": [
    "## precompile functions\n",
    "let \n",
    "    a=41.8*12\n",
    "    B=6.2\n",
    "    D=15.4\n",
    "    simu = find_simu(germany,reltol=1e-5) \n",
    "    @time fUI(B, a, simu,germany) \n",
    "    @time expectedB(a, simu,germany)\n",
    "    @time integrand_fNE(B, D, a,simu, germany)\n",
    "    @time fNE(D, a, simu, germany) \n",
    "    @time expectedD(a, simu, germany)\n",
    "    @time averageU5(0.025, 0.07, 0.0537, germany) \n",
    "end"
   ]
  },
  {
   "cell_type": "markdown",
   "metadata": {},
   "source": [
    "# 1) Find the parameters for different values of $q$\n",
    "We take as moments the expected duration of nonemployment and UI."
   ]
  },
  {
   "cell_type": "code",
   "execution_count": 4,
   "metadata": {},
   "outputs": [
    {
     "data": {
      "text/plain": [
       "distance (generic function with 1 method)"
      ]
     },
     "execution_count": 4,
     "metadata": {},
     "output_type": "execute_result"
    }
   ],
   "source": [
    "function moments_germany(simu::Simu,C::Country)\n",
    "    momD1 = expectedD(41.99*12,simu,C)\n",
    "    momD2 = expectedD(42.01*12,simu,C)\n",
    "  #  jfr0 = JFrate(simu.Ybar[1],C)\n",
    "  #  jfrUI = JFrate(simu.Ybar[3],C)\n",
    "  #  momav = averageU5(C.q, jfr0, jfrUI, C) \n",
    "    momB1 = expectedB(41.99*12,simu,C)\n",
    "    momB2 = expectedB(42.01*12,simu,C)\n",
    "    return([momD1, momD2, momB1, momB2])\n",
    "end\n",
    "\n",
    "moments_target = [15.6, 16.4, 6.7, 8.5] \n",
    "\n",
    "function distance(m1,m2)\n",
    "    out = 0\n",
    "    for i in 1:length(m1)\n",
    "        out += (m1[i] - m2[i]) ^2\n",
    "    end\n",
    "    return(out)\n",
    "end"
   ]
  },
  {
   "cell_type": "markdown",
   "metadata": {},
   "source": [
    "We calibrate our model to determine the values of $\\alpha$, $m$, $\\lambda_{min}$ and $\\lambda_{max}$ for different values of $q$."
   ]
  },
  {
   "cell_type": "code",
   "execution_count": 5,
   "metadata": {},
   "outputs": [
    {
     "name": "stdout",
     "output_type": "stream",
     "text": [
      "1.863908137661734 0.13715267414523216 0.1\n",
      "[15.6, 16.4, 6.69999, 8.50004]\n",
      "Param found with convergence STOPVAL_REACHED, the value of the objective is 3.1642415093585704e-9\n",
      "1.863908137661734  0.13715267414523216\n"
     ]
    },
    {
     "data": {
      "text/plain": [
       "4×5 Array{Float64,2}:\n",
       " 0.361291   0.479444   0.77479    1.18203    1.86391  \n",
       " 0.0618409  0.0787383  0.108496   0.128621   0.137153 \n",
       " 0.0659611  0.0659002  0.0657449  0.0655348  0.0652047\n",
       " 0.0283165  0.0282879  0.0282176  0.028129   0.0279901"
      ]
     },
     "execution_count": 5,
     "metadata": {},
     "output_type": "execute_result"
    }
   ],
   "source": [
    "## generate a Country object with new values for alpha, m, q , lambdamin and lambdamin+diff\n",
    "function update_Country(alpha,m,q,lambdamin,lambdadiff, C::Country)\n",
    "    Country(C.reform,C.A,C.Amin,C.Amax,C.r,C.c0,\n",
    "        alpha,q, m, lambdamin, lambdamin+lambdadiff,\n",
    "        C.uinit,C.bUI,C.b0max,C.b0min,C.wbar)\n",
    "end\n",
    "\n",
    "## compute the objective to minimise\n",
    "function objective_ger(alpha,m,q,lambdamin,lambdadiff, C::Country)\n",
    "    newC = update_Country(alpha,m,q,lambdamin,lambdadiff, C)\n",
    "\n",
    "    ## simulate\n",
    "    simu = find_simu(newC,reltol=1e-5) \n",
    "    moments_emp = moments_germany(simu,newC)\n",
    "    \n",
    "    IJulia.clear_output(true)\n",
    "    println(alpha,\" \",m,\" \",q)\n",
    "    println(moments_emp)\n",
    "    \n",
    "    distance(moments_emp, moments_target)\n",
    "end\n",
    "\n",
    "function find_germany(q, C::Country)\n",
    "    opt = Opt(:LN_BOBYQA, 4)\n",
    "    lower_bounds!(opt, [0.1 , 0., 0., 0.])\n",
    "    upper_bounds!(opt, [10. , 1., 0.2, 1.])\n",
    "    xtol_rel!(opt,1e-8)\n",
    "    stopval!(opt,1e-8)\n",
    "    min_objective!(opt, (v,g)-> objective_ger(v[1],v[2],q,v[3],v[4],C))\n",
    "\n",
    "    init = [0.7, 0.1, 0.06, 0.03]\n",
    "\n",
    "    (minf,minx,ret) = optimize(opt, init) \n",
    "    println(\"Param found with convergence \", ret, \", the value of the objective is \",minf)\n",
    "    println(minx[1], \"  \",minx[2])\n",
    "    return(minx)\n",
    "end\n",
    "\n",
    "q_vec = [0.005, 0.01, 0.025, 0.05, 0.1]\n",
    "am_vec = zeros(4,5)\n",
    "for (i,q) in enumerate(q_vec)\n",
    "    am_vec[:,i] =  find_germany(q,germany)\n",
    "end\n",
    "am_vec "
   ]
  },
  {
   "cell_type": "markdown",
   "metadata": {},
   "source": [
    "# 2) Statistics for each value of $q$"
   ]
  },
  {
   "cell_type": "code",
   "execution_count": 6,
   "metadata": {},
   "outputs": [
    {
     "data": {
      "text/plain": [
       "3×5 Array{Float64,2}:\n",
       " 0.0547839  0.0546959  0.0544615  0.0541921  0.0539528\n",
       " 0.0549767  0.0550668  0.0552903  0.0555901  0.0560596\n",
       " 0.0516853  0.0517472  0.0519026  0.0521131  0.0524418"
      ]
     },
     "execution_count": 6,
     "metadata": {},
     "output_type": "execute_result"
    }
   ],
   "source": [
    "jfrUI_bef_vec = zeros(length(q_vec))\n",
    "jfrUI_lmax_aft_vec = zeros(length(q_vec))\n",
    "jfrUI_lmin_aft_vec = zeros(length(q_vec))\n",
    "mom_vec = zeros(length(moments_target),length(q_vec))\n",
    "\n",
    "for (i,q) in enumerate(q_vec)\n",
    "    newC = update_Country(am_vec[1,i], am_vec[2,i],q,am_vec[3,i], am_vec[4,i], germany)\n",
    "    simu_ger = find_simu(newC,reltol=1e-5)\n",
    "    jfrUI_bef_vec[i] = JFrate(simu_ger.Xbar2(40*12),newC)\n",
    "    jfrUI_lmax_aft_vec[i] = JFrate(simu_ger.Ybar[2],newC)\n",
    "    jfrUI_lmin_aft_vec[i] = JFrate(simu_ger.Ybar[3],newC)\n",
    "\n",
    "    mom_vec[:,i] = moments_germany(simu_ger,newC)\n",
    "end\n",
    "\n",
    "mom_vec\n",
    "mid_vec = vcat(jfrUI_bef_vec',jfrUI_lmax_aft_vec',jfrUI_lmin_aft_vec')"
   ]
  },
  {
   "cell_type": "markdown",
   "metadata": {},
   "source": [
    "# 3) RDD for each value of $q$"
   ]
  },
  {
   "cell_type": "code",
   "execution_count": 7,
   "metadata": {},
   "outputs": [],
   "source": [
    "coefUI_vec = zeros(length(q_vec))\n",
    "coefNE_vec = zeros(length(q_vec))\n",
    "lateUI_vec = zeros(length(q_vec))\n",
    "lateNE_vec = zeros(length(q_vec))\n",
    "\n",
    "## simulated data at dayly frequency \n",
    "band = 2\n",
    "age_grid = (germany.A/12-band):(1/365):(germany.A/12+band)\n",
    "for (i,q) in enumerate(q_vec)\n",
    "    newC = update_Country(am_vec[1,i], am_vec[2,i],q,am_vec[3,i], am_vec[4,i], germany)\n",
    "    simu_ger = find_simu(newC,reltol=1e-5)\n",
    "    \n",
    "    Y1 = [expectedB(m,simu_ger,newC) for m in 12*age_grid] \n",
    "    Y2 = [expectedD(m,simu_ger,newC) for m in 12*age_grid] \n",
    "\n",
    "    #explaining variables\n",
    "    TREAT = [a>=germany.A for a in age_grid*12]\n",
    "    consta = ones(size(age_grid))\n",
    "    age1 = collect(age_grid*12)\n",
    "    age1_spl = (age1 .- germany.A) .* TREAT \n",
    "\n",
    "    ## linear spline\n",
    "    X = hcat(TREAT, consta, age1, age1_spl )   \n",
    "    beta1 = inv(X' * X) * (X' * Y1)\n",
    "    beta2 = inv(X' * X) * (X' * Y2)\n",
    "    coefUI_vec[i] = beta1[1]  + beta1[4] * germany.A/1200 \n",
    "    coefNE_vec[i] = beta2[1]  + beta2[4] * germany.A/1200 \n",
    "    \n",
    "    ## simulated effect of the policy at age A\n",
    "    mu0 = JFrate(simu_ger.Ybar[4],newC)\n",
    "    muUI = JFrate(simu_ger.Ybar[5],newC) \n",
    "    lam = newC.lambdamax\n",
    "    expDcounter0 = ((mu0-muUI)/((lam+muUI)*(mu0-lam-muUI)) - lam/(mu0*(mu0-lam-muUI)))\n",
    "    expDcounter1 = expectedD(germany.Amax,simu_ger,newC)\n",
    "\n",
    "    expBcounter0 = 1/ (newC.lambdamax+JFrate(simu_ger.Ybar[5],newC))\n",
    "    expBcounter1 = expectedB(germany.Amax,simu_ger,newC)\n",
    "\n",
    "    lateUI_vec[i] = expBcounter1-expBcounter0\n",
    "    lateNE_vec[i] = expDcounter1-expDcounter0\n",
    "\n",
    "end"
   ]
  },
  {
   "cell_type": "markdown",
   "metadata": {},
   "source": [
    "# The final table is"
   ]
  },
  {
   "cell_type": "code",
   "execution_count": 8,
   "metadata": {
    "scrolled": true
   },
   "outputs": [
    {
     "data": {
      "text/plain": [
       "14×5 Array{Float64,2}:\n",
       " 0.005      0.01       0.025      0.05       0.1      \n",
       " 0.361291   0.479444   0.77479    1.18203    1.86391  \n",
       " 0.0618409  0.0787383  0.108496   0.128621   0.137153 \n",
       " 0.0659611  0.0659002  0.0657449  0.0655348  0.0652047\n",
       " 0.0942777  0.0941881  0.0939625  0.0936638  0.0931948\n",
       " 0.0547839  0.0546959  0.0544615  0.0541921  0.0539528\n",
       " 0.0549767  0.0550668  0.0552903  0.0555901  0.0560596\n",
       " 0.0516853  0.0517472  0.0519026  0.0521131  0.0524418\n",
       " 1.78       1.78       1.78       1.78       1.78     \n",
       " 1.80069    1.80118    1.80216    1.8027     1.80115  \n",
       " 1.78982    1.78071    1.75868    1.73338    1.70304  \n",
       " 0.78       0.78       0.78       0.78       0.78     \n",
       " 0.803662   0.807087   0.814728   0.821499   0.823033 \n",
       " 0.74539    0.698783   0.591631   0.478924   0.364201 "
      ]
     },
     "execution_count": 8,
     "metadata": {},
     "output_type": "execute_result"
    }
   ],
   "source": [
    "am_vec[4,:] = am_vec[4,:] + am_vec[3,:] ## obtain lambdamax\n",
    "vcat(q_vec',am_vec,mid_vec,1.78 .* ones(length(q_vec))',coefUI_vec',lateUI_vec',0.78 .* ones(length(q_vec))',coefNE_vec',lateNE_vec')"
   ]
  }
 ],
 "metadata": {
  "kernelspec": {
   "display_name": "Julia 1.1.1",
   "language": "julia",
   "name": "julia-1.1"
  },
  "language_info": {
   "file_extension": ".jl",
   "mimetype": "application/julia",
   "name": "julia",
   "version": "1.1.1"
  }
 },
 "nbformat": 4,
 "nbformat_minor": 2
}
